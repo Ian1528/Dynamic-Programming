{
 "cells": [
  {
   "cell_type": "code",
   "execution_count": 225,
   "id": "c9f1b977",
   "metadata": {},
   "outputs": [],
   "source": [
    "import pickle\n",
    "import networkx as nx\n",
    "from course_version2 import *"
   ]
  },
  {
   "cell_type": "code",
   "execution_count": 226,
   "id": "2578b225",
   "metadata": {},
   "outputs": [],
   "source": [
    "with open(\"graph28.pickle\", \"rb\") as f:\n",
    "    G28 = pickle.load(f)\n",
    "with open(\"graph29.pickle\", \"rb\") as f:\n",
    "    G29 = pickle.load(f)"
   ]
  },
  {
   "cell_type": "code",
   "execution_count": 227,
   "id": "e475bc43",
   "metadata": {},
   "outputs": [],
   "source": [
    "# create a copy of the graphs with all nodes as strings instead of sections\n",
    "G28 = nx.relabel_nodes(G28, {i: i.name + \"-\" + str(i.block) for i in G28.nodes() if isinstance(i, Section)})\n",
    "G29 = nx.relabel_nodes(G29, {i: i.name + \"-\" + str(i.block) for i in G29.nodes() if isinstance(i, Section)})\n"
   ]
  },
  {
   "cell_type": "code",
   "execution_count": 228,
   "id": "6216bbfb",
   "metadata": {},
   "outputs": [
    {
     "data": {
      "text/plain": [
       "AtlasView({'MAT30-5': {'weight': 0}, 'MAT30-3': {'weight': 100}})"
      ]
     },
     "execution_count": 228,
     "metadata": {},
     "output_type": "execute_result"
    }
   ],
   "source": [
    "G29[\"Student 39 Grade 10\"]"
   ]
  },
  {
   "cell_type": "code",
   "execution_count": 229,
   "id": "5575bc7b",
   "metadata": {},
   "outputs": [
    {
     "name": "stdout",
     "output_type": "stream",
     "text": [
      "DiGraph with 41 nodes and 113 edges\n",
      "DiGraph with 41 nodes and 113 edges\n",
      "G28 is isomorphic to G29: True\n"
     ]
    }
   ],
   "source": [
    "print(G28)\n",
    "print(G29)\n",
    "print(\"G28 is isomorphic to G29:\", nx.is_isomorphic(G28, G29))\n",
    "\n",
    "# compare the max flow min cost of the two\n",
    "\n",
    "flow_dict28 = nx.max_flow_min_cost(G28, \"source\", \"sink\")\n",
    "flow_dict29 = nx.max_flow_min_cost(G29, \"source\", \"sink\")\n",
    "\n",
    "g28_edges = G28.edges(data=True)"
   ]
  },
  {
   "cell_type": "code",
   "execution_count": 230,
   "id": "1c1be5db",
   "metadata": {},
   "outputs": [
    {
     "name": "stdout",
     "output_type": "stream",
     "text": [
      "False\n",
      "Key Student 1 Grade 10 sub_key MAT30-5 is different\n",
      "G28: 1\n",
      "G29: 0\n",
      "*****\n",
      "Key Student 1 Grade 10 sub_key MAT30-3 is different\n",
      "G28: 0\n",
      "G29: 1\n",
      "*****\n",
      "Key Student 19 Grade 10 sub_key MAT30-5 is different\n",
      "G28: 0\n",
      "G29: 1\n",
      "*****\n",
      "Key Student 19 Grade 10 sub_key MAT30-3 is different\n",
      "G28: 1\n",
      "G29: 0\n",
      "*****\n"
     ]
    }
   ],
   "source": [
    "print(flow_dict28 == flow_dict29)\n",
    "# find the difference between the dictionaries\n",
    "for key in flow_dict28.keys():\n",
    "    if key not in flow_dict29.keys():\n",
    "        print(\"Key\", key, \"is not in G29\")\n",
    "    else:\n",
    "        for sub_key in flow_dict28[key].keys():\n",
    "            if sub_key not in flow_dict29[key].keys():\n",
    "                print(\"Key\", key, \"sub_key\", sub_key, \"is not in G29\")\n",
    "            else:\n",
    "                if flow_dict28[key][sub_key] != flow_dict29[key][sub_key]:\n",
    "                    print(\"Key\", key, \"sub_key\", sub_key, \"is different\")\n",
    "                    print(\"G28:\", flow_dict28[key][sub_key])\t\n",
    "                    print(\"G29:\", flow_dict29[key][sub_key])\n",
    "                    print(\"*****\")"
   ]
  },
  {
   "cell_type": "code",
   "execution_count": 231,
   "id": "60890b4b",
   "metadata": {},
   "outputs": [
    {
     "name": "stdout",
     "output_type": "stream",
     "text": [
      "(393, 37)\n",
      "37\n"
     ]
    }
   ],
   "source": [
    "def value_of_flow(flow_dict: dict, G: nx.DiGraph) -> int:\n",
    "    weighted_flow = 0\n",
    "    unweighted_flow = sum((flow_dict[u][\"sink\"] for u in G.predecessors(\"sink\"))) - sum(flow_dict[\"sink\"][v] for v in G.successors(\"sink\"))\n",
    "\n",
    "    for u, v in flow_dict.items():\n",
    "        for w, flow in v.items():\n",
    "            if flow > 0:\n",
    "                if \"weight\" in G[u][w].keys():\n",
    "                    weighted_flow += G[u][w][\"weight\"] * flow\n",
    "            # print(w, flow)\n",
    "            # print(G[u][w])\n",
    "    \n",
    "    return weighted_flow, unweighted_flow\n",
    "\n",
    "print(value_of_flow(flow_dict28, G28))\n",
    "print(nx.maximum_flow_value(G28, \"source\", \"sink\"))"
   ]
  },
  {
   "cell_type": "code",
   "execution_count": 232,
   "id": "f2337191",
   "metadata": {},
   "outputs": [
    {
     "name": "stdout",
     "output_type": "stream",
     "text": [
      "{'Student 32 Grade 11', 'Student 46 Grade 11', 'Student 30 Grade 11', 'Student 38 Grade 10', 'Student 35 Grade 11', 'Student 29 Grade 11', 'Student 33 Grade 11', 'Student 25 Grade 11', 'Student 31 Grade 11', 'Student 1 Grade 10', 'Student 38 Grade 11', 'Student 28 Grade 11', 'Student 12 Grade 11', 'Student 39 Grade 11', 'Student 25 Grade 10', 'Student 44 Grade 11', 'Student 24 Grade 10', 'Student 36 Grade 11', 'Student 47 Grade 11'}\n",
      "{'Student 28 Grade 10', 'Student 20 Grade 11', 'Student 15 Grade 11', 'Student 41 Grade 10', 'Student 27 Grade 10', 'Student 9 Grade 11', 'Student 3 Grade 10', 'Student 39 Grade 10', 'Student 31 Grade 10', 'Student 34 Grade 11', 'Student 19 Grade 10', 'Student 23 Grade 10', 'Student 13 Grade 10', 'Student 4 Grade 10', 'Student 19 Grade 11', 'Student 9 Grade 10', 'Student 21 Grade 10', 'Student 26 Grade 10'}\n"
     ]
    }
   ],
   "source": [
    "section3_students29 = set()\n",
    "section5_student29 = set()\n",
    "# compare the flow values\n",
    "for student, all_flow in flow_dict29.items():\n",
    "    if student == \"source\" or student == \"sink\":\n",
    "        continue\n",
    "    for section, flow_value in all_flow.items():\n",
    "        if section[:3] == \"MAT\":\n",
    "            if flow_value > 0:\n",
    "                if section[6] == \"3\":\n",
    "                    section3_students29.add(student)\n",
    "                    # print(student, section, flow_value)\n",
    "                else:\n",
    "                    section5_student29.add(student)\n",
    "                # print(student, section, flow_value)\n",
    "\n",
    "print(section3_students29)\n",
    "print(section5_student29)"
   ]
  },
  {
   "cell_type": "code",
   "execution_count": 233,
   "id": "838b03f2",
   "metadata": {},
   "outputs": [
    {
     "name": "stdout",
     "output_type": "stream",
     "text": [
      "{'Student 32 Grade 11', 'Student 46 Grade 11', 'Student 30 Grade 11', 'Student 38 Grade 10', 'Student 35 Grade 11', 'Student 29 Grade 11', 'Student 33 Grade 11', 'Student 25 Grade 11', 'Student 31 Grade 11', 'Student 38 Grade 11', 'Student 28 Grade 11', 'Student 12 Grade 11', 'Student 39 Grade 11', 'Student 19 Grade 10', 'Student 25 Grade 10', 'Student 44 Grade 11', 'Student 24 Grade 10', 'Student 36 Grade 11', 'Student 47 Grade 11'}\n",
      "{'Student 28 Grade 10', 'Student 20 Grade 11', 'Student 15 Grade 11', 'Student 41 Grade 10', 'Student 27 Grade 10', 'Student 9 Grade 11', 'Student 1 Grade 10', 'Student 3 Grade 10', 'Student 39 Grade 10', 'Student 31 Grade 10', 'Student 34 Grade 11', 'Student 13 Grade 10', 'Student 23 Grade 10', 'Student 4 Grade 10', 'Student 19 Grade 11', 'Student 9 Grade 10', 'Student 21 Grade 10', 'Student 26 Grade 10'}\n"
     ]
    }
   ],
   "source": [
    "section3_students28 = set()\n",
    "section5_student28 = set()\n",
    "# compare the flow values\n",
    "for student, all_flow in flow_dict28.items():\n",
    "    if student == \"source\" or student == \"sink\":\n",
    "        continue\n",
    "    for section, flow_value in all_flow.items():\n",
    "        if section[:3] == \"MAT\":\n",
    "            if flow_value > 0:\n",
    "                if section[6] == \"3\":\n",
    "                    section3_students28.add(student)\n",
    "                    # print(student, section, flow_value)\n",
    "                else:\n",
    "                    section5_student28.add(student)\n",
    "                # print(student, section, flow_value)\n",
    "\n",
    "print(section3_students28)\n",
    "print(section5_student28)"
   ]
  },
  {
   "cell_type": "markdown",
   "id": "74bf65c4",
   "metadata": {},
   "source": [
    "Comparing the values and costs of flows between G28 and G29 with the same flowdict (flowdit28).\n",
    "\n",
    "To fix:\n",
    "Force the alogorithm to do the same thing as the previous best iteration when it placed the student in that section."
   ]
  },
  {
   "cell_type": "code",
   "execution_count": 234,
   "id": "b6cf3583",
   "metadata": {},
   "outputs": [
    {
     "name": "stdout",
     "output_type": "stream",
     "text": [
      "G28 cost and value: (393, 37)\n",
      "G29 cost and value: (348, 37)\n",
      "G29 cost and value using G28: (348, 37)\n"
     ]
    }
   ],
   "source": [
    "print(\"G28 cost and value:\", value_of_flow(flow_dict28, G28))\n",
    "print(\"G29 cost and value:\", value_of_flow(flow_dict29, G29))\n",
    "print(\"G29 cost and value using G28:\", value_of_flow(flow_dict28, G29))"
   ]
  },
  {
   "cell_type": "code",
   "execution_count": 246,
   "id": "a48108bf",
   "metadata": {},
   "outputs": [
    {
     "name": "stdout",
     "output_type": "stream",
     "text": [
      "{'Student 32 Grade 11', 'Student 46 Grade 11', 'Student 30 Grade 11', 'Student 38 Grade 10', 'Student 35 Grade 11', 'Student 29 Grade 11', 'Student 33 Grade 11', 'Student 25 Grade 11', 'Student 31 Grade 11', 'Student 1 Grade 10', 'Student 38 Grade 11', 'Student 28 Grade 11', 'Student 12 Grade 11', 'Student 39 Grade 11', 'Student 25 Grade 10', 'Student 44 Grade 11', 'Student 24 Grade 10', 'Student 36 Grade 11', 'Student 47 Grade 11'}\n",
      "{'Student 28 Grade 10', 'Student 20 Grade 11', 'Student 15 Grade 11', 'Student 41 Grade 10', 'Student 27 Grade 10', 'Student 9 Grade 11', 'Student 3 Grade 10', 'Student 39 Grade 10', 'Student 31 Grade 10', 'Student 34 Grade 11', 'Student 19 Grade 10', 'Student 23 Grade 10', 'Student 13 Grade 10', 'Student 4 Grade 10', 'Student 19 Grade 11', 'Student 9 Grade 10', 'Student 21 Grade 10', 'Student 26 Grade 10'}\n",
      "Ideally, this should be the same as G28\n",
      "difference with g29 set()\n",
      "differnce with g28 {'Student 19 Grade 10'}\n",
      "Cost of flow is the same\n",
      "G28 cost: 393\n",
      "G29 cost: 348\n",
      "G29 alternative cost: 348\n",
      "Value of flow G28 (393, 37)\n",
      "Value of flow G29 (348, 37)\n",
      "Value of flow G29 alternative (348, 37)\n"
     ]
    }
   ],
   "source": [
    "G29_alternative = G28.copy()\n",
    "\n",
    "for u, v, data in G29_alternative.edges(data=True):\n",
    "    if u == \"Student 38 Grade 10\"  and v == \"MAT30-3\":\n",
    "        data['weight'] = 0\n",
    "flow_dict28_alternative = nx.max_flow_min_cost(G29_alternative, \"source\", \"sink\")\n",
    "section3_students29_alternative = set()\n",
    "section5_student29_alternative = set()\n",
    "# compare the flow values\n",
    "for student, all_flow in flow_dict28_alternative.items():\n",
    "    if student == \"source\" or student == \"sink\":\n",
    "        continue\n",
    "    for section, flow_value in all_flow.items():\n",
    "        if section[:3] == \"MAT\":\n",
    "            if flow_value > 0:\n",
    "                if section[6] == \"3\":\n",
    "                    section3_students29_alternative.add(student)\n",
    "                    # print(student, section, flow_value)\n",
    "                else:\n",
    "                    section5_student29_alternative.add(student)\n",
    "                # print(student, section, flow_value)\n",
    "\n",
    "print(section3_students29_alternative)\n",
    "print(section5_student29_alternative)\n",
    "\n",
    "print(\"Ideally, this should be the same as G28\")\n",
    "print(\"difference with g29\", section5_student29_alternative.difference(section5_student29))\n",
    "print(\"differnce with g28\", section5_student29_alternative.difference(section5_student28))\n",
    "\n",
    "print(\"Cost of flow is the same\")\n",
    "print(\"G28 cost:\", nx.cost_of_flow(G28, flow_dict28))\n",
    "print(\"G29 cost:\", nx.cost_of_flow(G29, flow_dict29))\n",
    "print(\"G29 alternative cost:\", nx.cost_of_flow(G29_alternative, flow_dict28_alternative))\n",
    "\n",
    "print(\"Value of flow G28\", value_of_flow(flow_dict28, G28))\n",
    "print(\"Value of flow G29\", value_of_flow(flow_dict29, G29))\n",
    "print(\"Value of flow G29 alternative\", value_of_flow(flow_dict28_alternative, G29_alternative))"
   ]
  },
  {
   "cell_type": "code",
   "execution_count": 236,
   "id": "e58ae6ad",
   "metadata": {},
   "outputs": [
    {
     "data": {
      "text/plain": [
       "{'Student 1 Grade 10'}"
      ]
     },
     "execution_count": 236,
     "metadata": {},
     "output_type": "execute_result"
    }
   ],
   "source": [
    "section3_students29.difference(section3_students28)"
   ]
  },
  {
   "cell_type": "code",
   "execution_count": 237,
   "id": "e25af5e0",
   "metadata": {},
   "outputs": [
    {
     "data": {
      "text/plain": [
       "{'Student 19 Grade 10'}"
      ]
     },
     "execution_count": 237,
     "metadata": {},
     "output_type": "execute_result"
    }
   ],
   "source": [
    "section3_students28.difference(section3_students29)"
   ]
  },
  {
   "cell_type": "code",
   "execution_count": 238,
   "id": "ab507c20",
   "metadata": {},
   "outputs": [
    {
     "name": "stdout",
     "output_type": "stream",
     "text": [
      "Edge 0 in G28 and G29 are the same."
     ]
    },
    {
     "name": "stdout",
     "output_type": "stream",
     "text": [
      "\n",
      "Edge 1 in G28 and G29 are the same.\n",
      "Edge 2 in G28 and G29 are the same.\n",
      "Edge 3 in G28 and G29 are the same.\n",
      "Edge 4 in G28 and G29 are the same.\n",
      "Edge 5 in G28 and G29 are the same.\n",
      "Edge 6 in G28 and G29 are the same.\n",
      "Edge 7 in G28 and G29 are the same.\n",
      "Edge 8 in G28 and G29 are the same.\n",
      "Edge 9 in G28 and G29 are the same.\n",
      "Edge 10 in G28 and G29 are the same.\n",
      "Edge 11 in G28 and G29 are the same.\n",
      "Edge 12 in G28 and G29 are the same.\n",
      "Edge 13 in G28 and G29 are the same.\n",
      "Edge 14 in G28 and G29 are the same.\n",
      "Edge 15 in G28 and G29 are the same.\n",
      "Edge 16 in G28 and G29 are the same.\n",
      "Edge 17 in G28 and G29 are the same.\n",
      "Edge 18 in G28 and G29 are the same.\n",
      "Edge 19 in G28 and G29 are the same.\n",
      "Edge 20 in G28 and G29 are the same.\n",
      "Edge 21 in G28 and G29 are the same.\n",
      "Edge 22 in G28 and G29 are the same.\n",
      "Edge 23 in G28 and G29 are the same.\n",
      "Edge 24 in G28 and G29 are the same.\n",
      "Edge 25 in G28 and G29 are the same.\n",
      "Edge 26 in G28 and G29 are the same.\n",
      "Edge 27 in G28 and G29 are the same.\n",
      "Edge 28 in G28 and G29 are the same.\n",
      "Edge 29 in G28 and G29 are the same.\n",
      "Edge 30 in G28 and G29 are the same.\n",
      "Edge 31 in G28 and G29 are the same.\n",
      "Edge 32 in G28 and G29 are the same.\n",
      "Edge 33 in G28 and G29 are the same.\n",
      "Edge 34 in G28 and G29 are the same.\n",
      "Edge 35 in G28 and G29 are the same.\n",
      "Edge 36 in G28 and G29 are the same.\n",
      "Edge 37 in G28 and G29 are the same.\n",
      "Edge 38 in G28 and G29 are the same.\n",
      "Edge 39 in G28 and G29 are the same.\n",
      "Edge 40 in G28 and G29 are the same.\n",
      "Edge 41 in G28 and G29 are the same.\n",
      "Edge 42 in G28 and G29 are the same.\n",
      "Edge 43 in G28 and G29 are the same.\n",
      "Edge 44 in G28 and G29 are the same.\n",
      "Edge 45 in G28 and G29 are the same.\n",
      "Edge 46 in G28 and G29 are the same.\n",
      "Edge 47 in G28 and G29 are the same.\n",
      "Edge 48 in G28 and G29 are the same.\n",
      "Edge 49 in G28 and G29 are the same.\n",
      "Edge 50 in G28 and G29 are the same.\n",
      "Edge 51 in G28 and G29 are the same.\n",
      "Edge 52 in G28 and G29 are the same.\n",
      "Edge 53 in G28 and G29 are the same.\n",
      "Edge 54 in G28 and G29 are the same.\n",
      "Edge 55 in G28 and G29 are the same.\n",
      "Edge 56 in G28 and G29 are the same.\n",
      "Edge 57 in G28 and G29 are the same.\n",
      "Edge 58 in G28 and G29 are the same.\n",
      "Edge 59 in G28 and G29 are the same.\n",
      "Edge 60 in G28 and G29 are the same.\n",
      "Edge 61 in G28 and G29 are the same.\n",
      "Edge 62 in G28 and G29 are the same.\n",
      "Edge 63 in G28 and G29 are the same.\n",
      "Edge 64 in G28: ('Student 28 Grade 10', 'MAT30-3', {'weight': 54})\n",
      "Edge 64 in G29: ('Student 28 Grade 10', 'MAT30-3', {'weight': 100})\n",
      "Difference found!\n",
      "Edge 65 in G28 and G29 are the same.\n",
      "Edge 66 in G28 and G29 are the same.\n",
      "Edge 67 in G28: ('Student 38 Grade 10', 'MAT30-5', {'weight': 54})\n",
      "Edge 67 in G29: ('Student 38 Grade 10', 'MAT30-3', {'weight': 0})\n",
      "Difference found!\n",
      "Edge 68 in G28: ('Student 38 Grade 10', 'MAT30-3', {'weight': 45})\n",
      "Edge 68 in G29: ('Student 38 Grade 10', 'MAT30-5', {'weight': 54})\n",
      "Difference found!\n",
      "Edge 69 in G28 and G29 are the same.\n",
      "Edge 70 in G28 and G29 are the same.\n",
      "Edge 71 in G28 and G29 are the same.\n",
      "Edge 72 in G28 and G29 are the same.\n",
      "Edge 73 in G28 and G29 are the same.\n",
      "Edge 74 in G28 and G29 are the same.\n",
      "Edge 75 in G28 and G29 are the same.\n",
      "Edge 76 in G28 and G29 are the same.\n",
      "Edge 77 in G28 and G29 are the same.\n",
      "Edge 78 in G28 and G29 are the same.\n",
      "Edge 79 in G28 and G29 are the same.\n",
      "Edge 80 in G28 and G29 are the same.\n",
      "Edge 81 in G28 and G29 are the same.\n",
      "Edge 82 in G28 and G29 are the same.\n",
      "Edge 83 in G28 and G29 are the same.\n",
      "Edge 84 in G28 and G29 are the same.\n",
      "Edge 85 in G28 and G29 are the same.\n",
      "Edge 86 in G28 and G29 are the same.\n",
      "Edge 87 in G28 and G29 are the same.\n",
      "Edge 88 in G28 and G29 are the same.\n",
      "Edge 89 in G28 and G29 are the same.\n",
      "Edge 90 in G28 and G29 are the same.\n",
      "Edge 91 in G28 and G29 are the same.\n",
      "Edge 92 in G28 and G29 are the same.\n",
      "Edge 93 in G28 and G29 are the same.\n",
      "Edge 94 in G28 and G29 are the same.\n",
      "Edge 95 in G28 and G29 are the same.\n",
      "Edge 96 in G28 and G29 are the same.\n",
      "Edge 97 in G28 and G29 are the same.\n",
      "Edge 98 in G28 and G29 are the same.\n",
      "Edge 99 in G28 and G29 are the same.\n",
      "Edge 100 in G28 and G29 are the same.\n",
      "Edge 101 in G28 and G29 are the same.\n",
      "Edge 102 in G28 and G29 are the same.\n",
      "Edge 103 in G28 and G29 are the same.\n",
      "Edge 104 in G28 and G29 are the same.\n",
      "Edge 105 in G28 and G29 are the same.\n",
      "Edge 106 in G28 and G29 are the same.\n",
      "Edge 107 in G28 and G29 are the same.\n",
      "Edge 108 in G28 and G29 are the same.\n",
      "Edge 109 in G28 and G29 are the same.\n",
      "Edge 110 in G28 and G29 are the same.\n",
      "Edge 111 in G28 and G29 are the same.\n",
      "Edge 112 in G28 and G29 are the same.\n"
     ]
    }
   ],
   "source": [
    "import pandas as pd\n",
    "import numpy as np\n",
    "import matplotlib.pyplot as plt\n",
    "# create a pandas series of g28_edges\n",
    "\n",
    "g28_edges_series = pd.Series(g28_edges)\n",
    "g28_edges_series\n",
    "\n",
    "g29_edges = G29.edges(data=True)\n",
    "g29_edges_series = pd.Series(g29_edges)\n",
    "\n",
    "# compare each entry in the two series\n",
    "for i in range(len(g28_edges_series)):\n",
    "    if g28_edges_series[i] != g29_edges_series[i]:\n",
    "        print(f\"Edge {i} in G28: {g28_edges_series[i]}\")\n",
    "        print(f\"Edge {i} in G29: {g29_edges_series[i]}\")\n",
    "        print(\"Difference found!\")\n",
    "    else:\n",
    "        print(f\"Edge {i} in G28 and G29 are the same.\")\n",
    "\n",
    "df = pd.DataFrame(g28_edges_series, columns=[\"G28 Edges\"])\n",
    "df[\"G29 Edges\"] = g29_edges_series"
   ]
  },
  {
   "cell_type": "code",
   "execution_count": 239,
   "id": "93495873",
   "metadata": {},
   "outputs": [
    {
     "name": "stdout",
     "output_type": "stream",
     "text": [
      "G28 393\n",
      "G29 348\n",
      "393\n",
      "393\n"
     ]
    }
   ],
   "source": [
    "print(\"G28\", nx.cost_of_flow(G28, flow_dict28))\n",
    "print(\"G29\", nx.cost_of_flow(G29, flow_dict29))\n",
    "\n",
    "print(nx.cost_of_flow(G28, flow_dict28_alternative))\n",
    "print(nx.cost_of_flow(G28, flow_dict28))"
   ]
  }
 ],
 "metadata": {
  "kernelspec": {
   "display_name": ".venv",
   "language": "python",
   "name": "python3"
  },
  "language_info": {
   "codemirror_mode": {
    "name": "ipython",
    "version": 3
   },
   "file_extension": ".py",
   "mimetype": "text/x-python",
   "name": "python",
   "nbconvert_exporter": "python",
   "pygments_lexer": "ipython3",
   "version": "3.12.3"
  }
 },
 "nbformat": 4,
 "nbformat_minor": 5
}
