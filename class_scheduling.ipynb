{
 "cells": [
  {
   "cell_type": "markdown",
   "metadata": {},
   "source": [
    "# Using Heuristics and Dynamic Programming to Solve the Class Scheduling Problem"
   ]
  },
  {
   "cell_type": "code",
   "execution_count": 230,
   "metadata": {},
   "outputs": [],
   "source": [
    "import numpy as np\n",
    "import random\n",
    "import math\n",
    "from functools import cmp_to_key\n",
    "\n",
    "from course import *\n",
    "from params import *\n",
    "import matplotlib.pyplot as plt"
   ]
  },
  {
   "cell_type": "code",
   "execution_count": 231,
   "metadata": {},
   "outputs": [
    {
     "name": "stdout",
     "output_type": "stream",
     "text": [
      "The autoreload extension is already loaded. To reload it, use:\n",
      "  %reload_ext autoreload\n"
     ]
    }
   ],
   "source": [
    "%load_ext autoreload\n",
    "%autoreload 2"
   ]
  },
  {
   "cell_type": "markdown",
   "metadata": {},
   "source": [
    "First, generate a toy data set"
   ]
  },
  {
   "cell_type": "markdown",
   "metadata": {},
   "source": [
    "Greedy algorithM:\n",
    "- schedule the class with the most demand first\n",
    "- scheudle all the students and classes first, then assign the teachers.\n",
    "\n",
    "Two ways to think about cost/optimal next choice:\n",
    "- the class with the most studnets signed up for it (do this until every block fo the school day is full)\n",
    "- the class with the least amount of students that would have a conflict with an existing, scheduled class\n",
    "    - do this when choosing which class to place in a slot already occupied by another class to avoid conflicts as much as possible"
   ]
  },
  {
   "cell_type": "markdown",
   "metadata": {},
   "source": [
    "Parameters:\n",
    " - N = 50 students, 2 grades\n",
    " - Each student takes six classes\n",
    " - N_t = 12 teachers. 2 teachers per subject\n",
    "\n",
    "| Required Classes | Elective Classes |\n",
    "|------------------|------------------|\n",
    "| English          | Art              |\n",
    "| Math             | History          |\n",
    "| Science          | Computer Science |\n",
    "| Language         |                  |\n",
    "\n",
    " - A school day consists of 7 blocks\n",
    " \n",
    "| Block |\n",
    "|-------|\n",
    "|   A   |\n",
    "|   B   |\n",
    "|   C   |\n",
    "|   D   |\n",
    "|   E   |\n",
    "|   F   |\n",
    "|   G   |"
   ]
  },
  {
   "cell_type": "markdown",
   "metadata": {},
   "source": [
    "## Initial Parameters\n",
    "\n",
    "Get from params.py"
   ]
  },
  {
   "cell_type": "markdown",
   "metadata": {},
   "source": [
    "## Generate Mock Data"
   ]
  },
  {
   "cell_type": "code",
   "execution_count": 232,
   "metadata": {},
   "outputs": [],
   "source": [
    "english_courses = [\n",
    "    Course(\"ENG10\"),\n",
    "    Course(\"ENG20\"),]\n",
    "\n",
    "math_courses = [\n",
    "    Course(\"MATH10\"),\n",
    "    Course(\"MATH20\"),]\n",
    "\n",
    "science_courses = [\n",
    "    Course(\"SCI10\"),\n",
    "    Course(\"SCI20\"),]\n",
    "\n",
    "history_courses = [\n",
    "    Course(\"HIST10\"),\n",
    "    Course(\"HIST20\"),]\n",
    "\n",
    "language_courses = [\n",
    "    Course(\"SPA10\"),\n",
    "    Course(\"SPA20\"),]\n",
    "\n",
    "art_courses = [\n",
    "    Course(\"ART10\"),\n",
    "    Course(\"ART20\"),]\n",
    "\n",
    "computer_courses = [\n",
    "    Course(\"COM10\"),\n",
    "    Course(\"COM20\"),]\n",
    "\n",
    "# Create a list of all courses\n",
    "all_courses = [english_courses, math_courses, science_courses, history_courses, art_courses, computer_courses, language_courses]\n",
    "all_courses_flattened = english_courses + math_courses + science_courses + history_courses + art_courses + computer_courses + language_courses"
   ]
  },
  {
   "cell_type": "markdown",
   "metadata": {},
   "source": [
    "Now for the students"
   ]
  },
  {
   "cell_type": "code",
   "execution_count": 233,
   "metadata": {},
   "outputs": [],
   "source": [
    "students = []\n",
    "\n",
    "# Create 100 students with random course selections\n",
    "for i in range(N_STUDENTS):\n",
    "    eng = random.choice(english_courses)\n",
    "    mat = random.choice(math_courses)\n",
    "    sci = random.choice(science_courses)\n",
    "    lan = random.choice(language_courses)    \n",
    "\n",
    "    elective_courses = [art_courses, computer_courses, history_courses]\n",
    "\n",
    "    sub1, sub2 = random.sample(elective_courses, 2) # Select 2 random elective courses\n",
    "    elective1 = random.choice(sub1)\n",
    "    elective2 = random.choice(sub2)\n",
    "    student = Student(f\"Student {i+1}\", [eng, mat, sci, lan], [elective1, elective2])\n",
    "    students.append(student)"
   ]
  },
  {
   "cell_type": "code",
   "execution_count": 234,
   "metadata": {},
   "outputs": [
    {
     "data": {
      "text/plain": [
       "47"
      ]
     },
     "execution_count": 234,
     "metadata": {},
     "output_type": "execute_result"
    }
   ],
   "source": [
    "len(all_courses_flattened[0].students)"
   ]
  },
  {
   "cell_type": "markdown",
   "metadata": {},
   "source": [
    "Now for the teachers"
   ]
  },
  {
   "cell_type": "code",
   "execution_count": 235,
   "metadata": {},
   "outputs": [
    {
     "name": "stdout",
     "output_type": "stream",
     "text": [
      "[ENG10, ENG20]\n",
      "[ENG10, ENG20]\n",
      "[MATH10, MATH20]\n",
      "[MATH10, MATH20]\n",
      "[SCI10, SCI20]\n",
      "[SCI10, SCI20]\n",
      "[HIST10, HIST20]\n",
      "[HIST10, HIST20]\n",
      "[ART10, ART20]\n",
      "[ART10, ART20]\n",
      "[COM10, COM20]\n",
      "[COM10, COM20]\n",
      "[SPA10, SPA20]\n",
      "[SPA10, SPA20]\n"
     ]
    }
   ],
   "source": [
    "teachers = []\n",
    "\n",
    "# Create 14 teachers with 2 per subject\n",
    "\n",
    "for i in range(N_TEACHERS):\n",
    "    subject_courses = all_courses[i//2] # mod shouldn't be needed since there are 7 subjects and 14 teachers\n",
    "    print(subject_courses)\n",
    "\n",
    "    preferred, neutral = random.sample(subject_courses, 2) # Select 2 random courses from the subject\n",
    "    teacher = Teacher(f\"Teacher {i+1}\", preferred_courses=[preferred], neutral_courses=[neutral])\n",
    "    teachers.append(teacher)\n"
   ]
  },
  {
   "cell_type": "markdown",
   "metadata": {},
   "source": [
    "Plot the data"
   ]
  },
  {
   "cell_type": "code",
   "execution_count": 236,
   "metadata": {},
   "outputs": [
    {
     "name": "stdout",
     "output_type": "stream",
     "text": [
      "{'ENG10': 47, 'ENG20': 53, 'MATH10': 54, 'MATH20': 46, 'SCI10': 56, 'SCI20': 44, 'HIST10': 35, 'HIST20': 41, 'ART10': 33, 'ART20': 29, 'COM10': 32, 'COM20': 30, 'SPA10': 51, 'SPA20': 49}\n"
     ]
    }
   ],
   "source": [
    "course_frequencies = {course.name: 0 for course in all_courses_flattened}\n",
    "for student in students:\n",
    "    courses = student.get_all_courses()\n",
    "    for course in courses:\n",
    "        course_frequencies[course.name] += 1\n",
    "print(course_frequencies)"
   ]
  },
  {
   "cell_type": "code",
   "execution_count": 237,
   "metadata": {},
   "outputs": [
    {
     "data": {
      "image/png": "[encoded data removed]",
      "text/plain": [
       "<Figure size 640x480 with 1 Axes>"
      ]
     },
     "metadata": {},
     "output_type": "display_data"
    }
   ],
   "source": [
    "# create a histogram of the course frequencies for each subject\n",
    "for i in range(0, len(all_courses_flattened), 2):\n",
    "    plt.plot(4, 2, i+1)\n",
    "    plt.bar([all_courses_flattened[i].name, all_courses_flattened[i+1].name], [course_frequencies[all_courses_flattened[i].name], course_frequencies[all_courses_flattened[i+1].name]])\n",
    "    plt.xlabel('Course')\n",
    "    plt.ylabel('Frequency')\n",
    "plt.tight_layout()\n",
    "plt.show()"
   ]
  },
  {
   "cell_type": "markdown",
   "metadata": {},
   "source": [
    "Zoomed in plot of just English"
   ]
  },
  {
   "cell_type": "code",
   "execution_count": 238,
   "metadata": {},
   "outputs": [
    {
     "data": {
      "text/plain": [
       "<BarContainer object of 2 artists>"
      ]
     },
     "execution_count": 238,
     "metadata": {},
     "output_type": "execute_result"
    },
    {
     "data": {
      "image/png": "[encoded data removed]",
      "text/plain": [
       "<Figure size 1000x600 with 1 Axes>"
      ]
     },
     "metadata": {},
     "output_type": "display_data"
    }
   ],
   "source": [
    "# plot the frequencies of each class for each subject\n",
    "# english:\n",
    "plt.figure(figsize=(10, 6))\n",
    "plt.title(\"English Classes\")\n",
    "plt.xlabel(\"Classes\")\n",
    "plt.ylabel(\"Number of Students\")\n",
    "plt.xticks(rotation=45)\n",
    "plt.grid(axis='y')\n",
    "plt.bar([english_courses[0].name, english_courses[1].name], [course_frequencies[english_courses[0].name], course_frequencies[english_courses[1].name]], color='blue', alpha=0.7)"
   ]
  },
  {
   "cell_type": "markdown",
   "metadata": {},
   "source": [
    "### Step 1: Determining the Number of Sections to Create\n",
    "\n",
    "Starting with English, we rank the courses based on desirability. Then we create a section for each of them. Keep track of the saturation of blocks, assigning sections to the least saturated block."
   ]
  },
  {
   "cell_type": "code",
   "execution_count": 239,
   "metadata": {},
   "outputs": [
    {
     "name": "stdout",
     "output_type": "stream",
     "text": [
      "Assigning ENG10 to block 0 with teacher Teacher 2\n",
      "Assigning ENG10 to block 1 with teacher Teacher 2\n",
      "Assigning ENG10 to block 2 with teacher Teacher 2\n",
      "Assigning ENG10 to block 3 with teacher Teacher 2\n",
      "Assigning ENG20 to block 4 with teacher Teacher 1\n",
      "Assigning ENG20 to block 5 with teacher Teacher 1\n",
      "Assigning ENG20 to block 6 with teacher Teacher 1\n",
      "Assigning ENG20 to block 0 with teacher Teacher 1\n",
      "No more available teachers for ENG20\n",
      "Assigning MATH10 to block 1 with teacher Teacher 4\n",
      "Assigning MATH10 to block 2 with teacher Teacher 4\n",
      "Assigning MATH10 to block 3 with teacher Teacher 4\n",
      "Assigning MATH10 to block 4 with teacher Teacher 4\n",
      "Assigning MATH10 to block 5 with teacher Teacher 3\n",
      "Assigning MATH20 to block 6 with teacher Teacher 3\n",
      "Assigning MATH20 to block 0 with teacher Teacher 3\n",
      "Assigning MATH20 to block 1 with teacher Teacher 3\n",
      "No more available teachers for MATH20\n",
      "Assigning SCI10 to block 2 with teacher Teacher 5\n",
      "Assigning SCI10 to block 3 with teacher Teacher 5\n",
      "Assigning SCI10 to block 4 with teacher Teacher 5\n",
      "Assigning SCI10 to block 5 with teacher Teacher 5\n",
      "Assigning SCI10 to block 6 with teacher Teacher 6\n",
      "Assigning SCI20 to block 0 with teacher Teacher 6\n",
      "Assigning SCI20 to block 1 with teacher Teacher 6\n",
      "Assigning SCI20 to block 2 with teacher Teacher 6\n",
      "No more available teachers for SCI20\n",
      "Assigning HIST10 to block 3 with teacher Teacher 7\n",
      "Assigning HIST10 to block 4 with teacher Teacher 7\n",
      "Assigning HIST10 to block 5 with teacher Teacher 7\n",
      "Assigning HIST20 to block 6 with teacher Teacher 7\n",
      "Assigning HIST20 to block 0 with teacher Teacher 8\n",
      "Assigning HIST20 to block 1 with teacher Teacher 8\n",
      "Assigning HIST20 to block 2 with teacher Teacher 8\n",
      "Assigning ART20 to block 3 with teacher Teacher 9\n",
      "Assigning ART20 to block 4 with teacher Teacher 9\n",
      "Assigning ART20 to block 5 with teacher Teacher 9\n",
      "Assigning ART10 to block 6 with teacher Teacher 9\n",
      "Assigning ART10 to block 0 with teacher Teacher 10\n",
      "Assigning ART10 to block 1 with teacher Teacher 10\n",
      "Assigning COM10 to block 2 with teacher Teacher 11\n",
      "Assigning COM10 to block 3 with teacher Teacher 11\n",
      "Assigning COM10 to block 4 with teacher Teacher 11\n",
      "Assigning COM20 to block 5 with teacher Teacher 11\n",
      "Assigning COM20 to block 6 with teacher Teacher 12\n",
      "Assigning COM20 to block 0 with teacher Teacher 12\n",
      "Assigning SPA10 to block 1 with teacher Teacher 14\n",
      "Assigning SPA10 to block 2 with teacher Teacher 14\n",
      "Assigning SPA10 to block 3 with teacher Teacher 14\n",
      "Assigning SPA10 to block 4 with teacher Teacher 14\n",
      "Assigning SPA20 to block 5 with teacher Teacher 13\n",
      "Assigning SPA20 to block 6 with teacher Teacher 13\n",
      "Assigning SPA20 to block 0 with teacher Teacher 13\n",
      "Assigning SPA20 to block 1 with teacher Teacher 13\n"
     ]
    }
   ],
   "source": [
    "block_counts: dict[int, int] = {i: 0 for i in range(0, 7)}\n",
    "\n",
    "def assign_block_and_teachers(courses: list[Course]):\n",
    "    \"\"\"Assigns blocks and teachers to the courses in the given list.\n",
    "    \n",
    "    Args:\n",
    "        courses (list[Course]): List of Course objects.\n",
    "    \"\"\"\n",
    "    sorted_courses = sorted(courses, key=lambda x: x.get_course_desirability_teaching(), reverse=True)\n",
    "    for course in sorted_courses:\n",
    "        num_sections = math.ceil(course_frequencies[course.name] / IDEAL_CLASS_SIZE)\n",
    "    \n",
    "        for i in range(num_sections):\n",
    "            teacher = course.get_best_teacher()\n",
    "            if not teacher:\n",
    "                print(f\"No more available teachers for {course.name}\")\n",
    "                break\n",
    "            sorted_blocks = sorted(block_counts.items(), key=lambda x: x[1])\n",
    "\n",
    "            # find the best free block for the teacher\n",
    "            j = 0\n",
    "            best_block = sorted_blocks[j][0]\n",
    "            while best_block in teacher.teaching_blocks:\n",
    "                j = (j + 1) % len(sorted_blocks)\n",
    "                best_block = sorted_blocks[j][0]\n",
    "            print(f\"Assigning {course.name} to block {best_block} with teacher {teacher.name}\")\n",
    "            course.create_section(teacher=teacher, block=best_block) # creating without students\n",
    "            block_counts[best_block] += 1\n",
    "\n",
    "for subject_courses in all_courses:\n",
    "    assign_block_and_teachers(subject_courses)"
   ]
  },
  {
   "cell_type": "markdown",
   "metadata": {},
   "source": [
    "Let's see how we're doing"
   ]
  },
  {
   "cell_type": "code",
   "execution_count": 240,
   "metadata": {},
   "outputs": [
    {
     "name": "stdout",
     "output_type": "stream",
     "text": [
      "[ENG10, block 0, ENG10, block 1, ENG10, block 2, ENG10, block 3]\n",
      "[ENG20, block 4, ENG20, block 5, ENG20, block 6, ENG20, block 0]\n",
      "[MATH10, block 1, MATH10, block 2, MATH10, block 3, MATH10, block 4, MATH10, block 5]\n",
      "[MATH20, block 6, MATH20, block 0, MATH20, block 1]\n",
      "[SCI10, block 2, SCI10, block 3, SCI10, block 4, SCI10, block 5, SCI10, block 6]\n",
      "[SCI20, block 0, SCI20, block 1, SCI20, block 2]\n",
      "[HIST10, block 3, HIST10, block 4, HIST10, block 5]\n",
      "[HIST20, block 6, HIST20, block 0, HIST20, block 1, HIST20, block 2]\n",
      "[ART10, block 6, ART10, block 0, ART10, block 1]\n",
      "[ART20, block 3, ART20, block 4, ART20, block 5]\n",
      "[COM10, block 2, COM10, block 3, COM10, block 4]\n",
      "[COM20, block 5, COM20, block 6, COM20, block 0]\n",
      "[SPA10, block 1, SPA10, block 2, SPA10, block 3, SPA10, block 4]\n",
      "[SPA20, block 5, SPA20, block 6, SPA20, block 0, SPA20, block 1]\n"
     ]
    }
   ],
   "source": [
    "for course in all_courses_flattened:\n",
    "    print(course.sections)"
   ]
  },
  {
   "cell_type": "markdown",
   "metadata": {},
   "source": [
    "### Assigning students to courses\n",
    "\n",
    "Start with the course with the least # of sections.\n",
    "\n",
    "Then, iterate over the sections, and for each student in that course:\n",
    "- assign the students based on their scheudles, which has two parts.\n",
    " - Assign students with the least other classes also taught in this block (minimize conflict of schedules). If there is overlap, assign the students with the most # of available sections combined between their other courses (in theory, they are the most flexible)"
   ]
  },
  {
   "cell_type": "code",
   "execution_count": 241,
   "metadata": {},
   "outputs": [
    {
     "name": "stdout",
     "output_type": "stream",
     "text": [
      "Sorted courses by least amount of sections:\n",
      "MATH20 3\n",
      "Ideal students per section: 16\n",
      "SCI20 3\n",
      "Ideal students per section: 15\n",
      "HIST10 3\n",
      "Ideal students per section: 12\n",
      "ART10 3\n",
      "Ideal students per section: 11\n",
      "ART20 3\n",
      "Ideal students per section: 10\n",
      "COM10 3\n",
      "Ideal students per section: 11\n",
      "COM20 3\n",
      "Ideal students per section: 10\n",
      "ENG10 4\n",
      "Ideal students per section: 12\n",
      "ENG20 4\n",
      "Ideal students per section: 14\n",
      "HIST20 4\n",
      "Ideal students per section: 11\n",
      "SPA10 4\n",
      "Ideal students per section: 13\n",
      "SPA20 4\n",
      "Ideal students per section: 13\n",
      "MATH10 5\n",
      "Ideal students per section: 11\n",
      "SCI10 5\n",
      "Ideal students per section: 12\n"
     ]
    }
   ],
   "source": [
    "\n",
    "sorted_courses = sorted(all_courses_flattened, key=lambda x: len(x.sections))\n",
    "print(\"Sorted courses by least amount of sections:\")\n",
    "for course in sorted_courses:\n",
    "    students_remaining = course.students.copy()\n",
    "    print(course.name, len(course.sections))\n",
    "\n",
    "    ideal_students_per_section = math.ceil(len(course.students)/len(course.sections))\n",
    "    print(\"Ideal students per section:\", ideal_students_per_section)\n",
    "    for section in course.sections:\n",
    "\n",
    "        # first, sort the students based on the ones we should assign first (algorithm described above)\n",
    "        def compare_students(s1: Student, s2: Student):\n",
    "            s1_block_overlap = 0\n",
    "            for course in s1.get_all_courses():\n",
    "                for section in course.sections:\n",
    "                    if section.block == section.block:\n",
    "                        s1_block_overlap += 1\n",
    "\n",
    "            s2_block_overlap = 0\n",
    "            for course in s2.get_all_courses():\n",
    "                for section in course.sections:\n",
    "                    if section.block == section.block:\n",
    "                        s2_block_overlap += 1\n",
    "            \n",
    "            if s1_block_overlap != s2_block_overlap:\n",
    "                return s1_block_overlap - s2_block_overlap # if s1 has more overlap, it is less desirable to place in this block\n",
    "\n",
    "            else:\n",
    "                return s1.get_flexibility() - s2.get_flexibility() # students with less flexibility are more desirable to place in this block\n",
    "\n",
    "        students_remaining = sorted(students, key=cmp_to_key(compare_students))\n",
    "        \n",
    "        # next, decide on how many of the students to assign to this section. Try for even split between all sections?\n"
   ]
  },
  {
   "cell_type": "markdown",
   "metadata": {},
   "source": [
    "Start with 1 subject. Then:\n",
    "\n",
    "1. Assign the number of classes based on demand.\n",
    "\n",
    "$n = \\lceil \\frac{\\text{num students}}{\\text{optimal class size}} \\rceil$\n",
    "\n",
    "2. Fix the classes within the school day.\n",
    "\n",
    "3. Put students in classes based on student schedule"
   ]
  },
  {
   "cell_type": "markdown",
   "metadata": {},
   "source": [
    "### Heuristic for assigning teachers to courses to maximize satisfaction:\n",
    "Repeat:\n",
    "\n",
    "2 rounds of scheduling all teachers who prefer teaching the course\n",
    "\n",
    "1 round of teachers who are neutral to it\n",
    "\n",
    "####  Assigning teachers to courses \n",
    "For teachers who both prefer teaching the same course.\n",
    "\n",
    "- Assing a \"pickiness\" score to each teacher. +1 for P and U, +0 for neutral.\n",
    "\n",
    "- Assign a \"Desirability\" rating for each class. +2 for P, +1 for N, +0 for U.\n",
    "\n",
    "Start with the least desirable course. If there's a tie for preference between teachers, break the tie by assigning the pickiest teacher to that course first. Update the pickiness rating of each teacher as each class is assigned.\n",
    "\n",
    "Notes:\n",
    "- If a teacher dislikes teaching a course, avoid it if at all possible.\n",
    "\n",
    "\n",
    "#### Assigning students to courses\n",
    "\n",
    "- Start with the student with the least amount of flexibility. Flexibility is defined as:\n",
    "    - ex. flexibility for english: \n",
    "    calculate the number of overlapping blocks with their math section, then history, then language. Sum these up\n",
    "\n",
    "Popularity of a class = number of students registered / number of sections.\n",
    "\n"
   ]
  },
  {
   "cell_type": "markdown",
   "metadata": {},
   "source": [
    "### Assigning courses to sections\n",
    "Note: Create a class for Block, keeping track of all the sections corresponding to that block. That's an easy way to track oversaturated versus undersaturated blocks. Assign courses based on the least saturated block."
   ]
  },
  {
   "cell_type": "code",
   "execution_count": 66,
   "metadata": {},
   "outputs": [
    {
     "ename": "IndentationError",
     "evalue": "expected an indented block after 'for' statement on line 16 (1854192265.py, line 18)",
     "output_type": "error",
     "traceback": [
      "\u001b[1;36m  Cell \u001b[1;32mIn[66], line 18\u001b[1;36m\u001b[0m\n\u001b[1;33m    for i in range(num_sections):\u001b[0m\n\u001b[1;37m    ^\u001b[0m\n\u001b[1;31mIndentationError\u001b[0m\u001b[1;31m:\u001b[0m expected an indented block after 'for' statement on line 16\n"
     ]
    }
   ],
   "source": [
    "# sort the classes by frequency\n",
    "sorted_courses = sorted(english_courses, key=lambda x: course_frequencies[x.name], reverse=True)\n",
    "for course in sorted_courses:\n",
    "    class_name = course.name\n",
    "    plt.bar(class_name, course_frequencies[class_name], color='blue', alpha=0.7)\n",
    "\n",
    "\n",
    "for course in sorted_courses:\n",
    "    num_sections = math.ceil(course_frequencies[course.name] / IDEAL_CLASS_SIZE)\n",
    "    print(f\"{course}: {num_sections} sections. Teachers: {course.teachers}\")\n",
    "\n",
    "    num_sections_assigned = 0\n",
    "\n",
    "    while num_sections_assigned < num_sections:\n",
    "        # Assign teachers to sections\n",
    "        for teacher in course.preferred_teachers: \n",
    "            \n",
    "    for i in range(num_sections):\n",
    "        course.create_section(block=i)\n",
    "    \n"
   ]
  },
  {
   "cell_type": "markdown",
   "metadata": {},
   "source": [
    "Constraint: each teacher teaches at most 4 sections"
   ]
  },
  {
   "cell_type": "markdown",
   "metadata": {},
   "source": [
    "Evaluating a position:\n",
    "- cost-to-go. Come up with a way to evaluate a position based on the features of it. (how constrained it is)\n",
    "\n",
    "Compare all permutations of courses in which blocks.\n",
    "\n",
    "\n",
    "What is the algorithm for assigning students?\n",
    "- take all of the students that have that block free. Pick a random sample of them to fill it up. Since elective sare placed last, this should prioritize filling the required courses."
   ]
  },
  {
   "cell_type": "markdown",
   "metadata": {},
   "source": [
    "## 3 possible methods to consider\n",
    "\n",
    "### 1. student first (prioritize student elective satisfaction)\n",
    "Go through each student, place each class based on their schedule. If a class already exists (and the capacity is less than maxium amount), assign the student to that class, otherwise open a new section.\n",
    "\n",
    "### 2. teacher first (prioritize number of blocks that teachers will teach)\n",
    "Assign teacher schedules based on their desired teaching schedule. (i.e. 4 sections even w/50 students because teachers prefer only 4)\n",
    "\n",
    "### 3. class sizes (prioritize size of each class)\n",
    "Assign the total number of sections for each course first. (i.e. 5 sections b/c 50 students)\n",
    "\n",
    "***********\n",
    "\n",
    "Methods 2 and 3 are similar because you assign the teacher schedules first, then place the students."
   ]
  }
 ],
 "metadata": {
  "kernelspec": {
   "display_name": ".venv",
   "language": "python",
   "name": "python3"
  },
  "language_info": {
   "codemirror_mode": {
    "name": "ipython",
    "version": 3
   },
   "file_extension": ".py",
   "mimetype": "text/x-python",
   "name": "python",
   "nbconvert_exporter": "python",
   "pygments_lexer": "ipython3",
   "version": "3.12.3"
  }
 },
 "nbformat": 4,
 "nbformat_minor": 2
}
