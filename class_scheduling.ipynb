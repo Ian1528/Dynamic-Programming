{
 "cells": [
  {
   "cell_type": "markdown",
   "metadata": {},
   "source": [
    "# Using Heuristics and Dynamic Programming to Solve the Class Scheduling Problem"
   ]
  },
  {
   "cell_type": "code",
   "execution_count": 1,
   "metadata": {},
   "outputs": [],
   "source": [
    "import numpy as np\n",
    "import random\n",
    "import math\n",
    "from functools import cmp_to_key\n",
    "\n",
    "from course import *\n",
    "from params import *\n",
    "import matplotlib.pyplot as plt"
   ]
  },
  {
   "cell_type": "code",
   "execution_count": 2,
   "metadata": {},
   "outputs": [],
   "source": [
    "%load_ext autoreload\n",
    "%autoreload 2"
   ]
  },
  {
   "cell_type": "markdown",
   "metadata": {},
   "source": [
    "First, generate a toy data set"
   ]
  },
  {
   "cell_type": "markdown",
   "metadata": {},
   "source": [
    "Greedy algorithM:\n",
    "- schedule the class with the most demand first\n",
    "- scheudle all the students and classes first, then assign the teachers.\n",
    "\n",
    "Two ways to think about cost/optimal next choice:\n",
    "- the class with the most studnets signed up for it (do this until every block fo the school day is full)\n",
    "- the class with the least amount of students that would have a conflict with an existing, scheduled class\n",
    "    - do this when choosing which class to place in a slot already occupied by another class to avoid conflicts as much as possible"
   ]
  },
  {
   "cell_type": "markdown",
   "metadata": {},
   "source": [
    "Parameters:\n",
    " - N = 50 students, 2 grades\n",
    " - Each student takes six classes\n",
    " - N_t = 12 teachers. 2 teachers per subject\n",
    "\n",
    "| Required Classes | Elective Classes |\n",
    "|------------------|------------------|\n",
    "| English          | Art              |\n",
    "| Math             | History          |\n",
    "| Science          | Computer Science |\n",
    "| Language         |                  |\n",
    "\n",
    " - A school day consists of 7 blocks\n",
    " \n",
    "| Block |\n",
    "|-------|\n",
    "|   A   |\n",
    "|   B   |\n",
    "|   C   |\n",
    "|   D   |\n",
    "|   E   |\n",
    "|   F   |\n",
    "|   G   |"
   ]
  },
  {
   "cell_type": "markdown",
   "metadata": {},
   "source": [
    "## Initial Parameters\n",
    "\n",
    "Get from params.py"
   ]
  },
  {
   "cell_type": "markdown",
   "metadata": {},
   "source": [
    "# Global Variables\n",
    "\n",
    "- List of Courses\n",
    "- List of Students\n",
    "- List of Teachers\n",
    "- Dictionary of Blocks to All Sections in that Block"
   ]
  },
  {
   "cell_type": "markdown",
   "metadata": {},
   "source": [
    "## Generate Mock Data"
   ]
  },
  {
   "cell_type": "code",
   "execution_count": 3,
   "metadata": {},
   "outputs": [],
   "source": [
    "english_courses = [\n",
    "    Course(\"ENG10\"),\n",
    "    Course(\"ENG20\"),]\n",
    "\n",
    "math_courses = [\n",
    "    Course(\"MATH10\"),\n",
    "    Course(\"MATH20\"),]\n",
    "\n",
    "science_courses = [\n",
    "    Course(\"SCI10\"),\n",
    "    Course(\"SCI20\"),]\n",
    "\n",
    "history_courses = [\n",
    "    Course(\"HIST10\"),\n",
    "    Course(\"HIST20\"),]\n",
    "\n",
    "language_courses = [\n",
    "    Course(\"SPA10\"),\n",
    "    Course(\"SPA20\"),]\n",
    "\n",
    "art_courses = [\n",
    "    Course(\"ART10\"),\n",
    "    Course(\"ART20\"),]\n",
    "\n",
    "computer_courses = [\n",
    "    Course(\"COM10\"),\n",
    "    Course(\"COM20\"),]\n",
    "\n",
    "# Create a list of all courses\n",
    "all_courses: list[list[Course]] = [english_courses, math_courses, science_courses, history_courses, art_courses, computer_courses, language_courses]\n",
    "all_courses_flattened: list[Course] = english_courses + math_courses + science_courses + history_courses + art_courses + computer_courses + language_courses"
   ]
  },
  {
   "cell_type": "markdown",
   "metadata": {},
   "source": [
    "Create the block schedule"
   ]
  },
  {
   "cell_type": "markdown",
   "metadata": {},
   "source": [
    "Now for the students"
   ]
  },
  {
   "cell_type": "code",
   "execution_count": 4,
   "metadata": {},
   "outputs": [],
   "source": [
    "students: list[Student] = []\n",
    "\n",
    "# Create 100 students with random course selections\n",
    "for i in range(N_STUDENTS):\n",
    "    eng = random.choice(english_courses)\n",
    "    mat = random.choice(math_courses)\n",
    "    sci = random.choice(science_courses)\n",
    "    lan = random.choice(language_courses)    \n",
    "\n",
    "    elective_courses = [art_courses, computer_courses, history_courses]\n",
    "\n",
    "    sub1, sub2 = random.sample(elective_courses, 2) # Select 2 random elective courses\n",
    "    elective1 = random.choice(sub1)\n",
    "    elective2 = random.choice(sub2)\n",
    "    student = Student(f\"Student {i+1}\", [eng, mat, sci, lan], [elective1, elective2])\n",
    "    students.append(student)"
   ]
  },
  {
   "cell_type": "code",
   "execution_count": 5,
   "metadata": {},
   "outputs": [
    {
     "data": {
      "text/plain": [
       "48"
      ]
     },
     "execution_count": 5,
     "metadata": {},
     "output_type": "execute_result"
    }
   ],
   "source": [
    "len(all_courses_flattened[0].students)"
   ]
  },
  {
   "cell_type": "markdown",
   "metadata": {},
   "source": [
    "Now for the teachers"
   ]
  },
  {
   "cell_type": "code",
   "execution_count": 6,
   "metadata": {},
   "outputs": [
    {
     "name": "stdout",
     "output_type": "stream",
     "text": [
      "[ENG10, ENG20]\n",
      "[ENG10, ENG20]\n",
      "[MATH10, MATH20]\n",
      "[MATH10, MATH20]\n",
      "[SCI10, SCI20]\n",
      "[SCI10, SCI20]\n",
      "[HIST10, HIST20]\n",
      "[HIST10, HIST20]\n",
      "[ART10, ART20]\n",
      "[ART10, ART20]\n",
      "[COM10, COM20]\n",
      "[COM10, COM20]\n",
      "[SPA10, SPA20]\n",
      "[SPA10, SPA20]\n"
     ]
    }
   ],
   "source": [
    "teachers: list[Teacher] = []\n",
    "\n",
    "# Create 14 teachers with 2 per subject\n",
    "\n",
    "for i in range(N_TEACHERS):\n",
    "    subject_courses = all_courses[i//2] # mod shouldn't be needed since there are 7 subjects and 14 teachers\n",
    "    print(subject_courses)\n",
    "\n",
    "    preferred, neutral = random.sample(subject_courses, 2) # Select 2 random courses from the subject\n",
    "    teacher = Teacher(f\"Teacher {i+1}\", preferred_courses=[preferred], neutral_courses=[neutral])\n",
    "    teachers.append(teacher)\n"
   ]
  },
  {
   "cell_type": "markdown",
   "metadata": {},
   "source": [
    "Plot the data"
   ]
  },
  {
   "cell_type": "code",
   "execution_count": 7,
   "metadata": {},
   "outputs": [
    {
     "name": "stdout",
     "output_type": "stream",
     "text": [
      "{'ENG10': 48, 'ENG20': 52, 'MATH10': 54, 'MATH20': 46, 'SCI10': 46, 'SCI20': 54, 'HIST10': 22, 'HIST20': 40, 'ART10': 40, 'ART20': 27, 'COM10': 30, 'COM20': 41, 'SPA10': 49, 'SPA20': 51}\n"
     ]
    }
   ],
   "source": [
    "course_frequencies = {course.name: 0 for course in all_courses_flattened}\n",
    "for student in students:\n",
    "    courses = student.get_all_courses()\n",
    "    for course in courses:\n",
    "        course_frequencies[course.name] += 1\n",
    "print(course_frequencies)"
   ]
  },
  {
   "cell_type": "code",
   "execution_count": 8,
   "metadata": {},
   "outputs": [
    {
     "data": {
      "image/png": "[encoded data removed]",
      "text/plain": [
       "<Figure size 640x480 with 1 Axes>"
      ]
     },
     "metadata": {},
     "output_type": "display_data"
    }
   ],
   "source": [
    "# create a histogram of the course frequencies for each subject\n",
    "for i in range(0, len(all_courses_flattened), 2):\n",
    "    plt.plot(4, 2, i+1)\n",
    "    plt.bar([all_courses_flattened[i].name, all_courses_flattened[i+1].name], [course_frequencies[all_courses_flattened[i].name], course_frequencies[all_courses_flattened[i+1].name]])\n",
    "    plt.xlabel('Course')\n",
    "    plt.ylabel('Frequency')\n",
    "plt.tight_layout()\n",
    "plt.show()"
   ]
  },
  {
   "cell_type": "markdown",
   "metadata": {},
   "source": [
    "Zoomed in plot of just English"
   ]
  },
  {
   "cell_type": "code",
   "execution_count": 9,
   "metadata": {},
   "outputs": [
    {
     "data": {
      "text/plain": [
       "<BarContainer object of 2 artists>"
      ]
     },
     "execution_count": 9,
     "metadata": {},
     "output_type": "execute_result"
    },
    {
     "data": {
      "image/png": "[encoded data removed]",
      "text/plain": [
       "<Figure size 1000x600 with 1 Axes>"
      ]
     },
     "metadata": {},
     "output_type": "display_data"
    }
   ],
   "source": [
    "# plot the frequencies of each class for each subject\n",
    "# english:\n",
    "plt.figure(figsize=(10, 6))\n",
    "plt.title(\"English Classes\")\n",
    "plt.xlabel(\"Classes\")\n",
    "plt.ylabel(\"Number of Students\")\n",
    "plt.xticks(rotation=45)\n",
    "plt.grid(axis='y')\n",
    "plt.bar([english_courses[0].name, english_courses[1].name], [course_frequencies[english_courses[0].name], course_frequencies[english_courses[1].name]], color='blue', alpha=0.7)"
   ]
  },
  {
   "cell_type": "markdown",
   "metadata": {},
   "source": [
    "### Step 1: Determining the Number of Sections to Create\n",
    "\n",
    "Starting with English, we rank the courses based on desirability. Then we create a section for each of them. Keep track of the saturation of blocks, assigning sections to the least saturated block."
   ]
  },
  {
   "cell_type": "code",
   "execution_count": 10,
   "metadata": {},
   "outputs": [
    {
     "name": "stdout",
     "output_type": "stream",
     "text": [
      "Name: Teacher 1. Teaching: {0: None, 1: None, 2: None, 3: None, 4: None, 5: None, 6: None}. Preferred: [ENG20]. Neutral: [ENG10]. Unpreferred: [].\n",
      "Name: Teacher 2. Teaching: {0: None, 1: None, 2: None, 3: None, 4: None, 5: None, 6: None}. Preferred: [ENG20]. Neutral: [ENG10]. Unpreferred: [].\n",
      "Name: Teacher 3. Teaching: {0: None, 1: None, 2: None, 3: None, 4: None, 5: None, 6: None}. Preferred: [MATH10]. Neutral: [MATH20]. Unpreferred: [].\n",
      "Name: Teacher 4. Teaching: {0: None, 1: None, 2: None, 3: None, 4: None, 5: None, 6: None}. Preferred: [MATH20]. Neutral: [MATH10]. Unpreferred: [].\n",
      "Name: Teacher 5. Teaching: {0: None, 1: None, 2: None, 3: None, 4: None, 5: None, 6: None}. Preferred: [SCI10]. Neutral: [SCI20]. Unpreferred: [].\n",
      "Name: Teacher 6. Teaching: {0: None, 1: None, 2: None, 3: None, 4: None, 5: None, 6: None}. Preferred: [SCI10]. Neutral: [SCI20]. Unpreferred: [].\n",
      "Name: Teacher 7. Teaching: {0: None, 1: None, 2: None, 3: None, 4: None, 5: None, 6: None}. Preferred: [HIST20]. Neutral: [HIST10]. Unpreferred: [].\n",
      "Name: Teacher 8. Teaching: {0: None, 1: None, 2: None, 3: None, 4: None, 5: None, 6: None}. Preferred: [HIST10]. Neutral: [HIST20]. Unpreferred: [].\n",
      "Name: Teacher 9. Teaching: {0: None, 1: None, 2: None, 3: None, 4: None, 5: None, 6: None}. Preferred: [ART10]. Neutral: [ART20]. Unpreferred: [].\n",
      "Name: Teacher 10. Teaching: {0: None, 1: None, 2: None, 3: None, 4: None, 5: None, 6: None}. Preferred: [ART10]. Neutral: [ART20]. Unpreferred: [].\n",
      "Name: Teacher 11. Teaching: {0: None, 1: None, 2: None, 3: None, 4: None, 5: None, 6: None}. Preferred: [COM20]. Neutral: [COM10]. Unpreferred: [].\n",
      "Name: Teacher 12. Teaching: {0: None, 1: None, 2: None, 3: None, 4: None, 5: None, 6: None}. Preferred: [COM10]. Neutral: [COM20]. Unpreferred: [].\n",
      "Name: Teacher 13. Teaching: {0: None, 1: None, 2: None, 3: None, 4: None, 5: None, 6: None}. Preferred: [SPA10]. Neutral: [SPA20]. Unpreferred: [].\n",
      "Name: Teacher 14. Teaching: {0: None, 1: None, 2: None, 3: None, 4: None, 5: None, 6: None}. Preferred: [SPA10]. Neutral: [SPA20]. Unpreferred: [].\n"
     ]
    }
   ],
   "source": [
    "for teacher in teachers:\n",
    "    print(teacher)"
   ]
  },
  {
   "cell_type": "code",
   "execution_count": 11,
   "metadata": {},
   "outputs": [],
   "source": [
    "def reset_teachers():\n",
    "    global block_sections\n",
    "    for teacher in teachers:\n",
    "        teacher.reset_schedule()\n",
    "    for course in all_courses_flattened:\n",
    "        course.reset_sections()\n",
    "\n",
    "    block_sections = {i: [] for i in range(0, 7)}\n"
   ]
  },
  {
   "cell_type": "markdown",
   "metadata": {},
   "source": [
    "## Future Note\n",
    "Can generalize course overlaps by specifiying the following for each course:\n",
    " - the classes it's good to overlap with (i.e. eng 10 and eng 20)\n",
    " - the classes it's bad to overlap (i.e. math 60 and chamber ensemble)"
   ]
  },
  {
   "cell_type": "code",
   "execution_count": 12,
   "metadata": {},
   "outputs": [
    {
     "name": "stdout",
     "output_type": "stream",
     "text": [
      "Assigning ENG20 to block 6 with teacher Teacher 1\n",
      "Assigning ENG20 to block 4 with teacher Teacher 1\n",
      "Assigning ENG20 to block 5 with teacher Teacher 1\n",
      "Assigning ENG20 to block 3 with teacher Teacher 1\n",
      "Assigning ENG10 to block 3 with teacher Teacher 2\n",
      "Assigning ENG10 to block 6 with teacher Teacher 2\n",
      "Assigning ENG10 to block 5 with teacher Teacher 2\n",
      "Assigning ENG10 to block 4 with teacher Teacher 2\n",
      "Assigning MATH10 to block 1 with teacher Teacher 3\n",
      "Assigning MATH10 to block 0 with teacher Teacher 3\n",
      "Assigning MATH10 to block 2 with teacher Teacher 3\n",
      "Assigning MATH10 to block 6 with teacher Teacher 3\n",
      "Assigning MATH10 to block 2 with teacher Teacher 4\n",
      "Assigning MATH20 to block 0 with teacher Teacher 4\n",
      "Assigning MATH20 to block 1 with teacher Teacher 4\n",
      "Assigning MATH20 to block 6 with teacher Teacher 4\n",
      "No more available teachers for MATH20\n",
      "Assigning SCI10 to block 5 with teacher Teacher 5\n",
      "Assigning SCI10 to block 0 with teacher Teacher 5\n",
      "Assigning SCI10 to block 4 with teacher Teacher 5\n",
      "Assigning SCI10 to block 3 with teacher Teacher 5\n",
      "Assigning SCI20 to block 5 with teacher Teacher 6\n",
      "Assigning SCI20 to block 4 with teacher Teacher 6\n",
      "Assigning SCI20 to block 0 with teacher Teacher 6\n",
      "Assigning SCI20 to block 3 with teacher Teacher 6\n",
      "No more available teachers for SCI20\n",
      "Assigning HIST10 to block 1 with teacher Teacher 8\n",
      "Assigning HIST10 to block 2 with teacher Teacher 8\n",
      "Assigning HIST20 to block 2 with teacher Teacher 7\n",
      "Assigning HIST20 to block 1 with teacher Teacher 7\n",
      "Assigning HIST20 to block 6 with teacher Teacher 7\n",
      "Assigning HIST20 to block 4 with teacher Teacher 7\n",
      "Assigning ART10 to block 5 with teacher Teacher 9\n",
      "Assigning ART10 to block 2 with teacher Teacher 9\n",
      "Assigning ART10 to block 3 with teacher Teacher 9\n",
      "Assigning ART10 to block 1 with teacher Teacher 9\n",
      "Assigning ART20 to block 5 with teacher Teacher 10\n",
      "Assigning ART20 to block 2 with teacher Teacher 10\n",
      "Assigning ART20 to block 3 with teacher Teacher 10\n",
      "Assigning COM10 to block 0 with teacher Teacher 12\n",
      "Assigning COM10 to block 6 with teacher Teacher 12\n",
      "Assigning COM10 to block 4 with teacher Teacher 12\n",
      "Assigning COM20 to block 0 with teacher Teacher 11\n",
      "Assigning COM20 to block 6 with teacher Teacher 11\n",
      "Assigning COM20 to block 4 with teacher Teacher 11\n",
      "Assigning COM20 to block 1 with teacher Teacher 11\n",
      "Assigning SPA10 to block 5 with teacher Teacher 13\n",
      "Assigning SPA10 to block 3 with teacher Teacher 13\n",
      "Assigning SPA10 to block 2 with teacher Teacher 13\n",
      "Assigning SPA10 to block 0 with teacher Teacher 13\n",
      "Assigning SPA20 to block 0 with teacher Teacher 14\n",
      "Assigning SPA20 to block 5 with teacher Teacher 14\n",
      "Assigning SPA20 to block 3 with teacher Teacher 14\n",
      "Assigning SPA20 to block 2 with teacher Teacher 14\n"
     ]
    }
   ],
   "source": [
    "reset_teachers()\n",
    "block_sections: dict[int, list[Section]] = {i: [] for i in range(0, 7)}\n",
    "def assign_block_and_teachers(courses: list[Course]):\n",
    "    \"\"\"Assigns blocks and teachers to the courses in the given list.\n",
    "    \n",
    "    Args:\n",
    "        courses (list[Course]): List of Course objects.\n",
    "    \"\"\"\n",
    "    # start with the least desirable course, so if a teacher prefers to teach an undersirable course, they get assgined to it.\n",
    "    sorted_courses = sorted(courses, key=lambda x: x.get_course_desirability_teaching(), reverse=True)\n",
    "    for course in sorted_courses:\n",
    "        num_sections = math.ceil(course_frequencies[course.name] / IDEAL_CLASS_SIZE)\n",
    "    \n",
    "        for i in range(num_sections):\n",
    "            teacher = course.get_best_teacher()\n",
    "            if not teacher:\n",
    "                print(f\"No more available teachers for {course.name}\")\n",
    "                break\n",
    "\n",
    "            # find the best free block for the teacher\n",
    "            best_block = teacher.find_best_block_for_course(course, block_sections)\n",
    "\n",
    "            print(f\"Assigning {course.name} to block {best_block} with teacher {teacher.name}\")\n",
    "            section = course.create_section(teacher=teacher, block=best_block) # creating without students\n",
    "            block_sections[best_block].append(section)\n",
    "\n",
    "for subject_courses in all_courses:\n",
    "    assign_block_and_teachers(subject_courses)"
   ]
  },
  {
   "cell_type": "markdown",
   "metadata": {},
   "source": [
    "Let's see how we're doing"
   ]
  },
  {
   "cell_type": "code",
   "execution_count": 13,
   "metadata": {},
   "outputs": [
    {
     "name": "stdout",
     "output_type": "stream",
     "text": [
      "[ENG10, block 3, length 0, full: False, ENG10, block 6, length 0, full: False, ENG10, block 5, length 0, full: False, ENG10, block 4, length 0, full: False]\n",
      "[ENG20, block 6, length 0, full: False, ENG20, block 4, length 0, full: False, ENG20, block 5, length 0, full: False, ENG20, block 3, length 0, full: False]\n",
      "[MATH10, block 1, length 0, full: False, MATH10, block 0, length 0, full: False, MATH10, block 2, length 0, full: False, MATH10, block 6, length 0, full: False, MATH10, block 2, length 0, full: False]\n",
      "[MATH20, block 0, length 0, full: False, MATH20, block 1, length 0, full: False, MATH20, block 6, length 0, full: False]\n",
      "[SCI10, block 5, length 0, full: False, SCI10, block 0, length 0, full: False, SCI10, block 4, length 0, full: False, SCI10, block 3, length 0, full: False]\n",
      "[SCI20, block 5, length 0, full: False, SCI20, block 4, length 0, full: False, SCI20, block 0, length 0, full: False, SCI20, block 3, length 0, full: False]\n",
      "[HIST10, block 1, length 0, full: False, HIST10, block 2, length 0, full: False]\n",
      "[HIST20, block 2, length 0, full: False, HIST20, block 1, length 0, full: False, HIST20, block 6, length 0, full: False, HIST20, block 4, length 0, full: False]\n",
      "[ART10, block 5, length 0, full: False, ART10, block 2, length 0, full: False, ART10, block 3, length 0, full: False, ART10, block 1, length 0, full: False]\n",
      "[ART20, block 5, length 0, full: False, ART20, block 2, length 0, full: False, ART20, block 3, length 0, full: False]\n",
      "[COM10, block 0, length 0, full: False, COM10, block 6, length 0, full: False, COM10, block 4, length 0, full: False]\n",
      "[COM20, block 0, length 0, full: False, COM20, block 6, length 0, full: False, COM20, block 4, length 0, full: False, COM20, block 1, length 0, full: False]\n",
      "[SPA10, block 5, length 0, full: False, SPA10, block 3, length 0, full: False, SPA10, block 2, length 0, full: False, SPA10, block 0, length 0, full: False]\n",
      "[SPA20, block 0, length 0, full: False, SPA20, block 5, length 0, full: False, SPA20, block 3, length 0, full: False, SPA20, block 2, length 0, full: False]\n"
     ]
    }
   ],
   "source": [
    "for course in all_courses_flattened:\n",
    "    print(course.sections)"
   ]
  },
  {
   "cell_type": "markdown",
   "metadata": {},
   "source": [
    "### Assigning students to courses\n",
    "\n",
    "Start with the course with the least # of sections.\n",
    "\n",
    "Then, iterate over the sections, and for each student in that course:\n",
    "- assign the students based on their scheudles, which has two parts.\n",
    "    - Assign students with the least other classes also taught in this block (minimize conflict of schedules). If there is overlap, assign the students with the most # of available sections combined between their other courses (in theory, they are the most flexible)\n",
    "\n",
    "- conflict resolution: if there are no available courses for a student:\n",
    "    - first, try and move one of their other courses to accomodate.\n",
    "    - if not possible, break the max class size limit and add a penalty\n",
    "    - if still infeasible, make a note of that (sometimes conflicts are unavoidable depending on teacher schedules)\n",
    "        - Potentially look at adding or shifting teacher schedules? (look at this later)"
   ]
  },
  {
   "cell_type": "code",
   "execution_count": 14,
   "metadata": {},
   "outputs": [],
   "source": [
    "def reset_student_assignments():\n",
    "    \"\"\"\n",
    "    Resets the course assignments for all students.\n",
    "    \"\"\"\n",
    "\n",
    "    for student in students:\n",
    "        student.reset_schedule()\n",
    "    for course in all_courses_flattened:\n",
    "        course.reset_students_in_sections()"
   ]
  },
  {
   "cell_type": "markdown",
   "metadata": {},
   "source": [
    "50% weight class size, 50% weight student schedule. Emphasize clsas size actually so that there is as even a distribution as possible."
   ]
  },
  {
   "cell_type": "code",
   "execution_count": 20,
   "metadata": {},
   "outputs": [
    {
     "name": "stdout",
     "output_type": "stream",
     "text": [
      "Students remaining: 2\n",
      "Students remaining: 3\n",
      "Students remaining: 2\n",
      "Students remaining: 9\n",
      "Students remaining: 7\n",
      "Students remaining: 5\n",
      "Students remaining: 5\n",
      "Students remaining: 7\n",
      "No available sections, need to attempt to rearrange schedule\n",
      "Can switch section\n",
      "No available sections, need to attempt to rearrange schedule\n",
      "Can switch section\n",
      "No available sections, need to attempt to rearrange schedule\n",
      "Can switch section\n",
      "Students remaining: 7\n",
      "No available sections, need to attempt to rearrange schedule\n",
      "Can switch section\n",
      "No available sections, need to attempt to rearrange schedule\n",
      "Can switch section\n",
      "Students remaining: 7\n"
     ]
    }
   ],
   "source": [
    "reset_student_assignments()\n",
    "sorted_courses = sorted(all_courses_flattened, key=lambda x: len(x.sections))\n",
    "for course in sorted_courses:\n",
    "    students_remaining = course.students.copy()\n",
    "    # print(course.name, len(course.sections))\n",
    "\n",
    "    ideal_students_per_section = math.ceil(len(course.students)/len(course.sections))\n",
    "    # print(\"Ideal students per section:\", ideal_students_per_section, \" Total students:\", len(course.students), \" Total sections:\", len(course.sections))\n",
    "    for section in course.sections:\n",
    "\n",
    "        # first, sort the students based on the ones we should assign first (algorithm described above)\n",
    "        def compare_students(s1: Student, s2: Student):\n",
    "            s1_block_overlap = 0\n",
    "            for course in s1.get_all_courses():\n",
    "                for section in course.sections:\n",
    "                    if section.block == section.block:\n",
    "                        s1_block_overlap += 1\n",
    "\n",
    "            s2_block_overlap = 0\n",
    "            for course in s2.get_all_courses():\n",
    "                for section in course.sections:\n",
    "                    if section.block == section.block:\n",
    "                        s2_block_overlap += 1\n",
    "            \n",
    "            if s1_block_overlap != s2_block_overlap:\n",
    "                return s1_block_overlap - s2_block_overlap # if s1 has more overlap, it is less desirable to place in this block\n",
    "\n",
    "            else:\n",
    "                return s1.get_flexibility() - s2.get_flexibility() # students with less flexibility are more desirable to place in this block\n",
    "        students_with_block_free = [student for student in students_remaining if student.schedule[section.block] == None]\n",
    "        \n",
    "        # sorted in descending order to make removal easier\n",
    "        students_ranked = sorted(students_with_block_free, key=cmp_to_key(compare_students), reverse=True) # sort the students based on the ones we should assign first (algorithm described above)\n",
    "        # create a stack of students from the list students_remaining\n",
    "        \n",
    "        # print(\"Students available for this section:\", len(students_ranked))\n",
    "        # print(\"Students sorted:\", [student.name for student in students_ranked])\n",
    "        # check if we have enough students to fill this section\n",
    "        # next, decide on how many of the students to assign to this section. Try for even split between all sections?\n",
    "        n_assigned = 0\n",
    "        while n_assigned < ideal_students_per_section and len(students_ranked) > 0:\n",
    "            # remove the first student from the list and add to the section\n",
    "            student = students_ranked.pop()\n",
    "            students_remaining.remove(student)\n",
    "            section.add_student(student)\n",
    "            n_assigned += 1\n",
    "    if len(students_remaining) == 0:\n",
    "        continue\n",
    "    #     print(\"All students assigned\")\n",
    "    else:\n",
    "        # print(\"Course \", course.name, \"not all students assigned\")\n",
    "        print(\"Students remaining:\", len(students_remaining))\n",
    "        for student in students_remaining:\n",
    "            # print(student.name, student.schedule)\n",
    "            best_section = student.get_optimal_section(course)\n",
    "            best_section.add_student(student)\n",
    "    \n",
    "    # print(\"Section\", section, \" assigned\")\n",
    "    # print(\"**************\")"
   ]
  },
  {
   "cell_type": "markdown",
   "metadata": {},
   "source": [
    "Start with 1 subject. Then:\n",
    "\n",
    "1. Assign the number of classes based on demand.\n",
    "\n",
    "$n = \\lceil \\frac{\\text{num students}}{\\text{optimal class size}} \\rceil$\n",
    "\n",
    "2. Fix the classes within the school day.\n",
    "\n",
    "3. Put students in classes based on student schedule"
   ]
  },
  {
   "cell_type": "markdown",
   "metadata": {},
   "source": [
    "### Heuristic for assigning teachers to courses to maximize satisfaction:\n",
    "Repeat:\n",
    "\n",
    "2 rounds of scheduling all teachers who prefer teaching the course\n",
    "\n",
    "1 round of teachers who are neutral to it\n",
    "\n",
    "####  Assigning teachers to courses \n",
    "For teachers who both prefer teaching the same course.\n",
    "\n",
    "- Assing a \"pickiness\" score to each teacher. +1 for P and U, +0 for neutral.\n",
    "\n",
    "- Assign a \"Desirability\" rating for each class. +2 for P, +1 for N, +0 for U.\n",
    "\n",
    "Start with the least desirable course. If there's a tie for preference between teachers, break the tie by assigning the pickiest teacher to that course first. Update the pickiness rating of each teacher as each class is assigned.\n",
    "\n",
    "Notes:\n",
    "- If a teacher dislikes teaching a course, avoid it if at all possible.\n",
    "\n",
    "\n",
    "#### Assigning students to courses\n",
    "\n",
    "- Start with the student with the least amount of flexibility. Flexibility is defined as:\n",
    "    - ex. flexibility for english: \n",
    "    calculate the number of overlapping blocks with their math section, then history, then language. Sum these up\n",
    "\n",
    "Popularity of a class = number of students registered / number of sections.\n",
    "\n"
   ]
  },
  {
   "cell_type": "markdown",
   "metadata": {},
   "source": [
    "### Assigning courses to sections\n",
    "Note: Create a class for Block, keeping track of all the sections corresponding to that block. That's an easy way to track oversaturated versus undersaturated blocks. Assign courses based on the least saturated block."
   ]
  },
  {
   "cell_type": "markdown",
   "metadata": {},
   "source": [
    "Constraint: each teacher teaches at most 4 sections"
   ]
  },
  {
   "cell_type": "markdown",
   "metadata": {},
   "source": [
    "Evaluating a position:\n",
    "- cost-to-go. Come up with a way to evaluate a position based on the features of it. (how constrained it is)\n",
    "\n",
    "Compare all permutations of courses in which blocks.\n",
    "\n",
    "\n",
    "What is the algorithm for assigning students?\n",
    "- take all of the students that have that block free. Pick a random sample of them to fill it up. Since elective sare placed last, this should prioritize filling the required courses."
   ]
  },
  {
   "cell_type": "markdown",
   "metadata": {},
   "source": [
    "## 3 possible methods to consider\n",
    "\n",
    "### 1. student first (prioritize student elective satisfaction)\n",
    "Go through each student, place each class based on their schedule. If a class already exists (and the capacity is less than maxium amount), assign the student to that class, otherwise open a new section.\n",
    "\n",
    "### 2. teacher first (prioritize number of blocks that teachers will teach)\n",
    "Assign teacher schedules based on their desired teaching schedule. (i.e. 4 sections even w/50 students because teachers prefer only 4)\n",
    "\n",
    "### 3. class sizes (prioritize size of each class)\n",
    "Assign the total number of sections for each course first. (i.e. 5 sections b/c 50 students)\n",
    "\n",
    "***********\n",
    "\n",
    "Methods 2 and 3 are similar because you assign the teacher schedules first, then place the students."
   ]
  },
  {
   "cell_type": "code",
   "execution_count": 16,
   "metadata": {},
   "outputs": [
    {
     "name": "stdout",
     "output_type": "stream",
     "text": [
      "Student 1\n",
      "0 SCI10\n",
      "1 HIST20\n",
      "2 SPA20\n",
      "3 Free\n",
      "4 COM20\n",
      "5 ENG20\n",
      "6 MATH20\n",
      "[ENG20, MATH20, SCI10, SPA20, COM20, HIST20]\n"
     ]
    }
   ],
   "source": [
    "student0 = students[0]\n",
    "print(student0.name)\n",
    "for block, section in student0.schedule.items():\n",
    "    if section is not None:\n",
    "        print(block, section.name)\n",
    "    else:\n",
    "        print(block, \"Free\")\n",
    "print(student0.get_all_courses())"
   ]
  },
  {
   "cell_type": "code",
   "execution_count": null,
   "metadata": {},
   "outputs": [],
   "source": []
  },
  {
   "cell_type": "code",
   "execution_count": 17,
   "metadata": {},
   "outputs": [
    {
     "data": {
      "image/png": "[encoded data removed]",
      "text/plain": [
       "<Figure size 1000x800 with 1 Axes>"
      ]
     },
     "metadata": {},
     "output_type": "display_data"
    }
   ],
   "source": [
    "import matplotlib.pyplot as plt\n",
    "from matplotlib.patches import Rectangle\n",
    "\n",
    "def visualize_schedule(people, n_people=10, person_type=\"Student\"):\n",
    "    fig, ax = plt.subplots(figsize=(10, 8))\n",
    "    blocks = ['A', 'B', 'C', 'D', 'E', 'F', 'G']\n",
    "    colors = ['#f4d03f', '#76d7c4', '#85c1e9', '#f1948a', '#bb8fce', '#FFA500', '#aed6f1']\n",
    "\n",
    "    for block_idx, block in enumerate(blocks):\n",
    "        ax.add_patch(Rectangle((0, block_idx), 1, 1, color=colors[block_idx], label=f'{block} Block'))\n",
    "        ax.text(-0.1, block_idx + 0.5, f'{block} Block', va='center', ha='right', fontsize=10, weight='bold')\n",
    "\n",
    "    for person_idx, person in enumerate(people[:n_people]):  # Visualize only the first 10 students\n",
    "        for block_idx, course in person.schedule.items():\n",
    "            if course:\n",
    "                ax.add_patch(Rectangle((person_idx, block_idx), 1, 1, color=colors[block_idx], alpha=0.7))\n",
    "                ax.text(person_idx + .5, block_idx + 0.5, course.name, va='center', ha='center', fontsize=8)\n",
    "\n",
    "    ax.set_xlim(0, len(people[:n_people]))\n",
    "    ax.set_ylim(0, len(blocks))\n",
    "    ax.set_xticks(range(1, len(people[:n_people]) + 1))\n",
    "    ax.set_xticklabels([f'{person_type} {i+1}' for i in range(len(people[:n_people]))], rotation=45, ha='right')\n",
    "    ax.set_yticks([])\n",
    "    ax.set_aspect('equal')\n",
    "    plt.tight_layout()\n",
    "    plt.show()\n",
    "\n",
    "# Call the function to visualize the schedule\n",
    "visualize_schedule(students)"
   ]
  },
  {
   "cell_type": "code",
   "execution_count": 18,
   "metadata": {},
   "outputs": [
    {
     "data": {
      "image/png": "[encoded data removed]",
      "text/plain": [
       "<Figure size 1000x800 with 1 Axes>"
      ]
     },
     "metadata": {},
     "output_type": "display_data"
    }
   ],
   "source": [
    "visualize_schedule(teachers, n_people=14, person_type=\"Teacher\")"
   ]
  },
  {
   "cell_type": "markdown",
   "metadata": {},
   "source": [
    "What about using matrices and vectors to represent state spaces?"
   ]
  },
  {
   "cell_type": "markdown",
   "metadata": {},
   "source": [
    "## Evaluating a final schedule\n",
    "\n",
    "Components:\n",
    "- How many students don't get their first choice electives?\n",
    "- How large are the classes? Penalize excessively large classes\n",
    "- How evenly distributed are the classes? Compute mean and standard deviation"
   ]
  },
  {
   "cell_type": "code",
   "execution_count": null,
   "metadata": {},
   "outputs": [
    {
     "name": "stdout",
     "output_type": "stream",
     "text": [
      "Mean students per section: 12.0 Std students per section: 1.224744871391589\n",
      "[13, 13, 12, 10] [0 0 1 3] 4\n",
      "Mean students per section: 13.0 Std students per section: 1.7320508075688772\n",
      "[14, 14, 14, 10] [-1 -1 -1  3] 7\n",
      "Mean students per section: 10.8 Std students per section: 4.214261501141095\n",
      "[18, 11, 11, 9, 5] [-5  2  2  4  8] 23\n",
      "Mean students per section: 15.333333333333334 Std students per section: 0.4714045207910317\n",
      "[15, 16, 15] [-2 -3 -2] 23\n",
      "Mean students per section: 11.5 Std students per section: 1.8027756377319946\n",
      "[14, 12, 9, 11] [-1  1  4  2] 30\n",
      "Mean students per section: 13.5 Std students per section: 6.34428877022476\n",
      "[18, 19, 14, 3] [-5 -6 -1 10] 40\n",
      "Mean students per section: 11.0 Std students per section: 0.0\n",
      "[11, 11] [2 2] 44\n",
      "Mean students per section: 10.0 Std students per section: 4.949747468305833\n",
      "[10, 13, 15, 2] [ 3  0 -2 11] 58\n",
      "Mean students per section: 10.0 Std students per section: 3.5355339059327378\n",
      "[15, 10, 5, 10] [-2  3  8  3] 72\n",
      "Mean students per section: 9.0 Std students per section: 0.0\n",
      "[9, 9, 9] [4 4 4] 84\n",
      "Mean students per section: 10.0 Std students per section: 2.8284271247461903\n",
      "[6, 12, 12] [7 1 1] 93\n",
      "Mean students per section: 10.25 Std students per section: 2.8613807855648994\n",
      "[11, 14, 6, 10] [ 2 -1  7  3] 105\n",
      "Mean students per section: 12.25 Std students per section: 3.112474899497183\n",
      "[9, 17, 13, 10] [ 4 -4  0  3] 112\n",
      "Mean students per section: 12.75 Std students per section: 3.960744879438715\n",
      "[15, 8, 18, 10] [-2  5 -5  3] 120\n"
     ]
    },
    {
     "data": {
      "text/plain": [
       "np.int64(120)"
      ]
     },
     "execution_count": 19,
     "metadata": {},
     "output_type": "execute_result"
    }
   ],
   "source": [
    "def cost_of_final_schedules():\n",
    "    \"\"\"Calculates the cost of the final schedules based on the number of students in each section and the number of sections.\n",
    "    \n",
    "    Returns:\n",
    "        int: The total cost of the final schedules.\n",
    "    \"\"\"\n",
    "    total_cost = 0\n",
    "\n",
    "    for student in students:\n",
    "        schedule_courses = {section.course for section in student.schedule.values() if section is not None}\n",
    "        \n",
    "        # check that all students have their required courses\n",
    "        for required_course in student.required_courses:\n",
    "            if required_course not in schedule_courses:\n",
    "                print(f\"Student {student.name} is missing required course {required_course.name}.\")\n",
    "                return math.inf\n",
    "        # ideally, account for all elective courses as well, but this is not a requirement \n",
    "        for elective_course in student.elective_courses:\n",
    "            if elective_course not in schedule_courses:\n",
    "                print(f\"Student {student.name} is missing elective course {elective_course.name}.\")\n",
    "\n",
    "    for course in all_courses_flattened:\n",
    "        num_sections = len(course.sections)\n",
    "\n",
    "        # calculate mean and standard deviation of students per section\n",
    "        if num_sections > 0:\n",
    "            students_per_section = [len(section.students) for section in course.sections]\n",
    "            mean_students = np.mean(students_per_section)\n",
    "            std_students = np.std(students_per_section)\n",
    "            print(\"Mean students per section:\", mean_students, \"Std students per section:\", std_students)\n",
    "            # create a numpy array of length num_sections with the number 8 in each entry\n",
    "            difference_from_ideal = np.full(num_sections, IDEAL_CLASS_SIZE) - students_per_section\n",
    "            for diff in difference_from_ideal:\n",
    "                if diff > 0:\n",
    "                    total_cost += diff\n",
    "            print(students_per_section, difference_from_ideal, total_cost)\n",
    "            \n",
    "    return total_cost\n",
    "\n",
    "cost_of_final_schedules()"
   ]
  }
 ],
 "metadata": {
  "kernelspec": {
   "display_name": ".venv",
   "language": "python",
   "name": "python3"
  },
  "language_info": {
   "codemirror_mode": {
    "name": "ipython",
    "version": 3
   },
   "file_extension": ".py",
   "mimetype": "text/x-python",
   "name": "python",
   "nbconvert_exporter": "python",
   "pygments_lexer": "ipython3",
   "version": "3.12.3"
  }
 },
 "nbformat": 4,
 "nbformat_minor": 2
}
