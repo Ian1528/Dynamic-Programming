{
 "cells": [
  {
   "cell_type": "markdown",
   "metadata": {},
   "source": [
    "# Using Heuristics and Dynamic Programming to Solve the Class Scheduling Problem"
   ]
  },
  {
   "cell_type": "code",
   "execution_count": 41,
   "metadata": {},
   "outputs": [],
   "source": [
    "import numpy as np\n",
    "import random\n",
    "import math\n",
    "from functools import cmp_to_key\n",
    "import networkx as nx\n",
    "\n",
    "from course_version2 import *\n",
    "from params_version2 import *\n",
    "import matplotlib.pyplot as plt"
   ]
  },
  {
   "cell_type": "code",
   "execution_count": 42,
   "metadata": {},
   "outputs": [
    {
     "name": "stdout",
     "output_type": "stream",
     "text": [
      "The autoreload extension is already loaded. To reload it, use:\n",
      "  %reload_ext autoreload\n"
     ]
    }
   ],
   "source": [
    "%load_ext autoreload\n",
    "%autoreload 2"
   ]
  },
  {
   "cell_type": "markdown",
   "metadata": {},
   "source": [
    "First, generate a toy data set"
   ]
  },
  {
   "cell_type": "markdown",
   "metadata": {},
   "source": [
    "Greedy algorithM:\n",
    "- schedule the class with the most demand first\n",
    "- scheudle all the students and classes first, then assign the teachers.\n",
    "\n",
    "Two ways to think about cost/optimal next choice:\n",
    "- the class with the most studnets signed up for it (do this until every block fo the school day is full)\n",
    "- the class with the least amount of students that would have a conflict with an existing, scheduled class\n",
    "    - do this when choosing which class to place in a slot already occupied by another class to avoid conflicts as much as possible"
   ]
  },
  {
   "cell_type": "markdown",
   "metadata": {},
   "source": [
    "Parameters:\n",
    " - N = 50 students, 2 grades\n",
    " - Each student takes six classes\n",
    " - N_t = 12 teachers. 2 teachers per subject\n",
    "\n",
    "| Required Classes | Elective Classes |\n",
    "|------------------|------------------|\n",
    "| English          | Art              |\n",
    "| Math             | History          |\n",
    "| Science          | Computer Science |\n",
    "| Language         |                  |\n",
    "\n",
    " - A school day consists of 7 blocks\n",
    " \n",
    "| Block |\n",
    "|-------|\n",
    "|   A   |\n",
    "|   B   |\n",
    "|   C   |\n",
    "|   D   |\n",
    "|   E   |\n",
    "|   F   |\n",
    "|   G   |"
   ]
  },
  {
   "cell_type": "markdown",
   "metadata": {},
   "source": [
    "## Initial Parameters\n",
    "\n",
    "Get from params.py"
   ]
  },
  {
   "cell_type": "markdown",
   "metadata": {},
   "source": [
    "# Global Variables\n",
    "\n",
    "- List of Courses\n",
    "- List of Students\n",
    "- List of Teachers\n",
    "- Dictionary of Blocks to All Sections in that Block"
   ]
  },
  {
   "cell_type": "markdown",
   "metadata": {},
   "source": [
    "## Generate Mock Data\n",
    "\n",
    "Eventually, the goal is to obtain this data from a master spreadsheet of some sorts"
   ]
  },
  {
   "cell_type": "code",
   "execution_count": 43,
   "metadata": {},
   "outputs": [],
   "source": [
    "english_courses = [\n",
    "    Course(\"ENG10\"),\n",
    "    Course(\"ENG20\"),\n",
    "    Course(\"ENG30\"),\n",
    "    Course(\"ENG40\", is_elective=True), # senior electives\n",
    "    Course(\"ENG50\", is_elective=True), # senior electives\n",
    "    Course(\"ENG60\", is_elective=True), # senior electives\n",
    "    ]\n",
    "\n",
    "math_courses = [\n",
    "    Course(\"MAT10\"), # algebra i\n",
    "    Course(\"MAT20\"), # geometry\n",
    "    Course(\"MAT30\"), # algebra ii\n",
    "    Course(\"MAT40\"), # precalc\n",
    "    Course(\"MAT50\"), # calc\n",
    "    Course(\"MAT60\") # post BC\n",
    "    ]\n",
    "\n",
    "science_courses = [\n",
    "    Course(\"BIO10\"),\n",
    "    Course(\"CHE10\"),\n",
    "    Course(\"PHY10\"),\n",
    "    Course(\"PHY20\"),\n",
    "    Course(\"CHE30\"), # AP chem\n",
    "    Course(\"BIO30\"), # AP bio\n",
    "    Course(\"PHY30\") # AP physics C\n",
    "    ]\n",
    "\n",
    "history_courses = [\n",
    "    Course(\"HIS10\"), # freshmen history\n",
    "    Course(\"HIS20\"), # sophomore history\n",
    "    Course(\"HIS30\"), # regular US\n",
    "    Course(\"HIS40\"), # APUSH\n",
    "    Course(\"HIS50\"), # AP Euro\n",
    "    ]\n",
    "\n",
    "language_courses = [\n",
    "    Course(\"SPA10\"),\n",
    "    Course(\"SPA20\"),\n",
    "    Course(\"SPA30\"),\n",
    "    Course(\"SPA40\"),]\n",
    "\n",
    "art_courses = [\n",
    "    Course(\"ART10\", is_elective=True),\n",
    "    Course(\"ART20\", is_elective=True),\n",
    "    Course(\"ART30\", is_elective=True),\n",
    "    Course(\"ART40\", is_elective=True),\n",
    "    Course(\"ART50\"), # junior year elective\n",
    "    Course(\"ART60\"), # senior year elective\n",
    "    ]\n",
    "\n",
    "computer_courses = [\n",
    "    Course(\"COM10\"),\n",
    "    Course(\"COM20\"),\n",
    "    Course(\"COM30\"),\n",
    "    Course(\"COM40\"), # senior year elective\n",
    "    ]\n",
    "ninth_grade_courses = {\n",
    "    english_courses[0],\n",
    "    math_courses[0],\n",
    "    math_courses[1],\n",
    "    science_courses[0],\n",
    "    history_courses[0],\n",
    "    art_courses[0],\n",
    "    art_courses[1],\n",
    "    art_courses[2],\n",
    "    art_courses[3],\n",
    "    computer_courses[0],\n",
    "    language_courses[0],\n",
    "    language_courses[1],\n",
    "    language_courses[2]\n",
    "    }\n",
    "\n",
    "\n",
    "tenth_grade_courses = {\n",
    "    english_courses[1],\n",
    "    math_courses[1],\n",
    "    math_courses[2],\n",
    "    math_courses[3],\n",
    "    science_courses[1],\n",
    "    history_courses[1],\n",
    "    art_courses[0],\n",
    "    art_courses[1],\n",
    "    art_courses[2],\n",
    "    art_courses[3],\n",
    "    computer_courses[1],\n",
    "    language_courses[0],\n",
    "    language_courses[1],\n",
    "    language_courses[2]\n",
    "}\n",
    "eleventh_grade_courses = {\n",
    "    english_courses[2],\n",
    "    math_courses[2],\n",
    "    math_courses[3],\n",
    "    math_courses[4],\n",
    "    science_courses[2],\n",
    "    science_courses[3],\n",
    "    history_courses[2],\n",
    "    history_courses[3],\n",
    "    art_courses[4],\n",
    "    computer_courses[2],\n",
    "    language_courses[0],\n",
    "    language_courses[1],\n",
    "    language_courses[2]\n",
    "}\n",
    "twelfth_grade_courses = {\n",
    "    english_courses[3],\n",
    "    english_courses[4],\n",
    "    english_courses[5],\n",
    "    math_courses[4],\n",
    "    math_courses[5],\n",
    "    science_courses[4],\n",
    "    science_courses[5],\n",
    "    science_courses[6],\n",
    "    history_courses[4],\n",
    "    art_courses[5],\n",
    "    computer_courses[3],\n",
    "    language_courses[2],\n",
    "    language_courses[3],\n",
    "}\n",
    "# Create a list of all courses\n",
    "all_courses: list[list[Course]] = [english_courses, math_courses, science_courses, history_courses, art_courses, computer_courses, language_courses]\n",
    "all_courses_flattened: list[Course] = english_courses + math_courses + science_courses + history_courses + art_courses + computer_courses + language_courses\n",
    "\n",
    "\n",
    "for course in ninth_grade_courses:\n",
    "    course.conflicting_courses = course.conflicting_courses.union(ninth_grade_courses)\n",
    "    course.non_conflicting_courses = course.non_conflicting_courses.union(tenth_grade_courses.union(eleventh_grade_courses.union(twelfth_grade_courses)))\n",
    "\n",
    "    both_conflicting = course.conflicting_courses.intersection(course.non_conflicting_courses)\n",
    "    # remove the intersection from non_conflicting courses (they should still be counted as conflicts)\n",
    "    course.non_conflicting_courses = course.non_conflicting_courses.difference(both_conflicting)\n",
    "\n",
    "for course in tenth_grade_courses:\n",
    "    course.conflicting_courses = course.conflicting_courses.union(tenth_grade_courses)\n",
    "    course.non_conflicting_courses = course.non_conflicting_courses.union(ninth_grade_courses.union(eleventh_grade_courses.union(twelfth_grade_courses)))\n",
    "\n",
    "    both_conflicting = course.conflicting_courses.intersection(course.non_conflicting_courses)\n",
    "    # remove the intersection from non_conflicting courses (they should still be counted as conflicts)\n",
    "    course.non_conflicting_courses = course.non_conflicting_courses.difference(both_conflicting)\n",
    "\n",
    "for course in eleventh_grade_courses:\n",
    "    course.conflicting_courses = course.conflicting_courses.union(eleventh_grade_courses)\n",
    "    course.non_conflicting_courses = course.non_conflicting_courses.union(ninth_grade_courses.union(tenth_grade_courses.union(twelfth_grade_courses)))\n",
    "\n",
    "    both_conflicting = course.conflicting_courses.intersection(course.non_conflicting_courses)\n",
    "    # remove the intersection from non_conflicting courses (they should still be counted as conflicts)\n",
    "    course.non_conflicting_courses = course.non_conflicting_courses.difference(both_conflicting)\n",
    "\n",
    "for course in twelfth_grade_courses:\n",
    "    course.conflicting_courses = course.conflicting_courses.union(twelfth_grade_courses)\n",
    "    course.non_conflicting_courses = course.non_conflicting_courses.union(ninth_grade_courses.union(tenth_grade_courses.union(eleventh_grade_courses)))\n",
    "\n",
    "    both_conflicting = course.conflicting_courses.intersection(course.non_conflicting_courses)\n",
    "    # remove the intersection from non_conflicting courses (they should still be counted as conflicts)\n",
    "    course.non_conflicting_courses = course.non_conflicting_courses.difference(both_conflicting)\n"
   ]
  },
  {
   "cell_type": "markdown",
   "metadata": {},
   "source": [
    "Create the block schedule"
   ]
  },
  {
   "cell_type": "markdown",
   "metadata": {},
   "source": [
    "Now for the students"
   ]
  },
  {
   "cell_type": "code",
   "execution_count": 44,
   "metadata": {},
   "outputs": [],
   "source": [
    "students: list[Student] = []\n",
    "\n",
    "# Create 100 students with random course selections\n",
    "\n",
    "# start with grade 9\n",
    "for i in range(N_STUDENTS_GRADE_9):\n",
    "    eng = english_courses[0]  # ENG10\n",
    "    mat = random.choice(math_courses[0:2])  # MATH10 or MATH20\n",
    "    sci = science_courses[0]  # SCI10 or SCI20\n",
    "    lan = random.choice(language_courses[0:3])  # SPA10, SPA20, or SPA30\n",
    "    \n",
    "    art_rankings = art_courses[:4]\n",
    "    random.shuffle(art_rankings)\n",
    "\n",
    "    other_elective_subject = random.choice([computer_courses, history_courses])\n",
    "    elec = other_elective_subject[0]  # COM10 or HIS20\n",
    "\n",
    "    course_requests = [[eng], [mat], [sci], [lan], [elec], art_rankings]\n",
    "    students.append(Student(f\"Student {i+1} Grade 9\", course_requests, 9))\n",
    "\n",
    "for i in range(N_STUDENTS_GRADE_10):\n",
    "    eng = english_courses[1]  # ENG20\n",
    "    mat = random.choice(math_courses[1:4])  # MATH20 or MATH30 or MATH40\n",
    "    sci = science_courses[1]  # SCI20 or SCI30\n",
    "    lan = random.choice(language_courses[0:3])  # SPA10, SPA20, or SPA30\n",
    "    art_rankings = art_courses[:4]\n",
    "    random.shuffle(art_rankings)\n",
    "\n",
    "    other_elective_subject = random.choice([computer_courses, history_courses])\n",
    "    elec = other_elective_subject[1]  # COM20 or HIS20\n",
    "    \n",
    "    course_requests = [[eng], [mat], [sci], [lan], [elec], art_rankings]\n",
    "    students.append(Student(f\"Student {i+1} Grade 10\", course_requests, 10))\n",
    "\n",
    "for i in range(N_STUDENTS_GRADE_11):\n",
    "    eng = english_courses[2]  # ENG30\n",
    "    mat = random.choice(math_courses[2:5])  # MATH30 or MATH40 or MATH50\n",
    "    sci = random.choice(science_courses[2:4])  # Either PHY10 or PHY20\n",
    "    lan = random.choice(language_courses[1:3])  # SPA10, SPA20, or SPA30\n",
    "    his = random.choice(history_courses[2:4])  # HIS30 or HIS40 (either APUSH or regular US history)\n",
    "    art = art_courses[4]\n",
    "    com = computer_courses[2]\n",
    "    ran_num = random.uniform(0,1)\n",
    "    # only history \n",
    "    if ran_num <= 0.33:\n",
    "        course_requests = [[eng], [mat], [sci], [lan], [his]]\n",
    "    # history + comp sci\n",
    "    elif ran_num <= 0.66:\n",
    "        course_requests = [[eng], [mat], [sci], [lan], [his], [com]]\n",
    "    # history + art\n",
    "    else:\n",
    "        course_requests = [[eng], [mat], [sci], [lan], [his], [art]]\n",
    "    students.append(Student(f\"Student {i+1} Grade 11\", course_requests, 11))\n",
    "for i in range(N_STUDENTS_GRADE_12):\n",
    "    eng = english_courses[3:] # english electives\n",
    "    random.shuffle(eng)\n",
    "    mat = random.choice(math_courses[4:])  # MATH30 or MATH40 or MATH50\n",
    "    sci = random.choice(science_courses[4:])  # Either PHY10 or PHY20\n",
    "    lan = random.choice(language_courses[2:])  # SPA10, SPA20, or SPA30\n",
    "    his = history_courses[4]  # HIS30 or HIS40 (either APUSH or regular US history)\n",
    "    art = art_courses[5]\n",
    "    com = computer_courses[3]\n",
    "    ran_num = random.uniform(0,1)\n",
    "    # only history \n",
    "    if ran_num <= 0.33:\n",
    "        course_requests = [eng, [mat], [sci], [lan], [his]]\n",
    "    # history + comp sci\n",
    "    elif ran_num <= 0.66:\n",
    "        course_requests = [eng, [mat], [sci], [lan], [his], [com]]\n",
    "    # history + art\n",
    "    else:\n",
    "        course_requests = [eng, [mat], [sci], [lan], [his], [art]]\n",
    "\n",
    "    students.append(Student(f\"Student {i+1} Grade 12\", course_requests, 11))"
   ]
  },
  {
   "cell_type": "code",
   "execution_count": 45,
   "metadata": {},
   "outputs": [
    {
     "data": {
      "text/plain": [
       "50"
      ]
     },
     "execution_count": 45,
     "metadata": {},
     "output_type": "execute_result"
    }
   ],
   "source": [
    "len(all_courses_flattened[0].students)"
   ]
  },
  {
   "cell_type": "markdown",
   "metadata": {},
   "source": [
    "Now for the teachers"
   ]
  },
  {
   "cell_type": "code",
   "execution_count": 46,
   "metadata": {},
   "outputs": [],
   "source": [
    "teachers: list[Teacher] = []\n",
    "\n",
    "english_department_teachers = [\n",
    "    Teacher(\"English Teacher 1\", preferred_courses=[english_courses[0], english_courses[4]], neutral_courses=[english_courses[1], english_courses[2]]),\n",
    "    Teacher(\"English Teacher 2\", preferred_courses=[english_courses[1], english_courses[5]], neutral_courses=[english_courses[0], english_courses[2]]),\n",
    "    Teacher(\"English Teacher 3\", preferred_courses=[english_courses[2]], neutral_courses=[english_courses[0], english_courses[1]]),\n",
    "    Teacher(\"English Teacher 4\", preferred_courses=[english_courses[3]], neutral_courses=[english_courses[4], english_courses[5]]),\n",
    "]\n",
    "# Create 21 teachers with 3 per subject\n",
    "for subject_courses in all_courses:\n",
    "    for i in range(4):\n",
    "        preferred, unpreferred = random.sample(subject_courses, 2) # Select 2 random courses from the subject\n",
    "        neutral_courses = [course for course in subject_courses if course != preferred and course != unpreferred]\n",
    "        teacher = Teacher(f\"{subject_courses[0].name[:3]} Teacher {i+1}\", preferred_courses=[preferred], neutral_courses=neutral_courses, unpreferred_courses=[unpreferred])\n",
    "        teachers.append(teacher)"
   ]
  },
  {
   "cell_type": "markdown",
   "metadata": {},
   "source": [
    "Plot the data"
   ]
  },
  {
   "cell_type": "code",
   "execution_count": 47,
   "metadata": {},
   "outputs": [
    {
     "name": "stdout",
     "output_type": "stream",
     "text": [
      "{'ENG10': 50, 'ENG20': 50, 'ENG30': 50, 'ENG40': 17, 'ENG50': 11, 'ENG60': 22, 'MAT10': 23, 'MAT20': 43, 'MAT30': 38, 'MAT40': 29, 'MAT50': 42, 'MAT60': 25, 'BIO10': 50, 'CHE10': 50, 'PHY10': 23, 'PHY20': 27, 'CHE30': 22, 'BIO30': 16, 'PHY30': 12, 'HIS10': 24, 'HIS20': 29, 'HIS30': 28, 'HIS40': 22, 'HIS50': 50, 'ART10': 31, 'ART20': 25, 'ART30': 24, 'ART40': 20, 'ART50': 20, 'ART60': 11, 'COM10': 26, 'COM20': 21, 'COM30': 18, 'COM40': 18, 'SPA10': 33, 'SPA20': 53, 'SPA30': 87, 'SPA40': 27}\n"
     ]
    }
   ],
   "source": [
    "course_frequencies = {course.name: 0 for course in all_courses_flattened}\n",
    "for student in students:\n",
    "    courses = student.get_all_first_choice_courses()\n",
    "    for course in courses:\n",
    "        course_frequencies[course.name] += 1\n",
    "print(course_frequencies)"
   ]
  },
  {
   "cell_type": "markdown",
   "metadata": {},
   "source": [
    "Zoomed in plot of just math"
   ]
  },
  {
   "cell_type": "code",
   "execution_count": 48,
   "metadata": {},
   "outputs": [
    {
     "data": {
      "text/plain": [
       "<BarContainer object of 6 artists>"
      ]
     },
     "execution_count": 48,
     "metadata": {},
     "output_type": "execute_result"
    },
    {
     "data": {
      "image/png": "[encoded data removed]",
      "text/plain": [
       "<Figure size 1000x600 with 1 Axes>"
      ]
     },
     "metadata": {},
     "output_type": "display_data"
    }
   ],
   "source": [
    "# plot the frequencies of each class for each subject\n",
    "# english:\n",
    "plt.figure(figsize=(10, 6))\n",
    "plt.title(\"Math Classes\")\n",
    "plt.xlabel(\"Classes\")\n",
    "plt.ylabel(\"Number of Students\")\n",
    "plt.xticks(rotation=45)\n",
    "plt.grid(axis='y')\n",
    "\n",
    "# create a bar plot for all 5 math courses\n",
    "plt.bar([math_courses[0].name, math_courses[1].name, math_courses[2].name, math_courses[3].name, math_courses[4].name, math_courses[5].name], [course_frequencies[math_courses[0].name], course_frequencies[math_courses[1].name], course_frequencies[math_courses[2].name], course_frequencies[math_courses[3].name], course_frequencies[math_courses[4].name], course_frequencies[math_courses[5].name]], color='green', alpha=0.7)\n"
   ]
  },
  {
   "cell_type": "markdown",
   "metadata": {},
   "source": [
    "Zoomed in plot of the sciences"
   ]
  },
  {
   "cell_type": "code",
   "execution_count": 49,
   "metadata": {},
   "outputs": [
    {
     "data": {
      "text/plain": [
       "<BarContainer object of 7 artists>"
      ]
     },
     "execution_count": 49,
     "metadata": {},
     "output_type": "execute_result"
    },
    {
     "data": {
      "image/png": "[encoded data removed]",
      "text/plain": [
       "<Figure size 1000x600 with 1 Axes>"
      ]
     },
     "metadata": {},
     "output_type": "display_data"
    }
   ],
   "source": [
    "# plot the frequencies of each class for each subject\n",
    "# english:\n",
    "plt.figure(figsize=(10, 6))\n",
    "plt.title(\"Science Classes\")\n",
    "plt.xlabel(\"Classes\")\n",
    "plt.ylabel(\"Number of Students\")\n",
    "plt.xticks(rotation=45)\n",
    "plt.grid(axis='y')\n",
    "\n",
    "# create a bar plot for all 7 science courses\n",
    "plt.bar([science_courses[0].name, science_courses[1].name, science_courses[2].name, science_courses[3].name, science_courses[4].name, science_courses[5].name, science_courses[6].name], [course_frequencies[science_courses[0].name], course_frequencies[science_courses[1].name], course_frequencies[science_courses[2].name], course_frequencies[science_courses[3].name], course_frequencies[science_courses[4].name], course_frequencies[science_courses[5].name], course_frequencies[science_courses[6].name]], color='blue', alpha=0.7)"
   ]
  },
  {
   "cell_type": "markdown",
   "metadata": {},
   "source": [
    "### Step 1: Determining the Number of Sections to Create\n",
    "\n",
    "Starting with English, we rank the courses based on desirability. Then we create a section for each of them. Keep track of the saturation of blocks, assigning sections to the least saturated block."
   ]
  },
  {
   "cell_type": "code",
   "execution_count": 50,
   "metadata": {},
   "outputs": [
    {
     "name": "stdout",
     "output_type": "stream",
     "text": [
      "Name: ENG Teacher 1. Teaching: {0: None, 1: None, 2: None, 3: None, 4: None, 5: None, 6: None}. Preferred: [ENG30]. Neutral: [ENG10, ENG20, ENG50, ENG60]. Unpreferred: [ENG40].\n",
      "Name: ENG Teacher 2. Teaching: {0: None, 1: None, 2: None, 3: None, 4: None, 5: None, 6: None}. Preferred: [ENG50]. Neutral: [ENG10, ENG20, ENG30, ENG60]. Unpreferred: [ENG40].\n",
      "Name: ENG Teacher 3. Teaching: {0: None, 1: None, 2: None, 3: None, 4: None, 5: None, 6: None}. Preferred: [ENG10]. Neutral: [ENG20, ENG40, ENG50, ENG60]. Unpreferred: [ENG30].\n",
      "Name: ENG Teacher 4. Teaching: {0: None, 1: None, 2: None, 3: None, 4: None, 5: None, 6: None}. Preferred: [ENG20]. Neutral: [ENG10, ENG30, ENG50, ENG60]. Unpreferred: [ENG40].\n",
      "Name: MAT Teacher 1. Teaching: {0: None, 1: None, 2: None, 3: None, 4: None, 5: None, 6: None}. Preferred: [MAT10]. Neutral: [MAT20, MAT30, MAT40, MAT50]. Unpreferred: [MAT60].\n",
      "Name: MAT Teacher 2. Teaching: {0: None, 1: None, 2: None, 3: None, 4: None, 5: None, 6: None}. Preferred: [MAT10]. Neutral: [MAT20, MAT30, MAT40, MAT60]. Unpreferred: [MAT50].\n",
      "Name: MAT Teacher 3. Teaching: {0: None, 1: None, 2: None, 3: None, 4: None, 5: None, 6: None}. Preferred: [MAT30]. Neutral: [MAT10, MAT20, MAT40, MAT50]. Unpreferred: [MAT60].\n",
      "Name: MAT Teacher 4. Teaching: {0: None, 1: None, 2: None, 3: None, 4: None, 5: None, 6: None}. Preferred: [MAT60]. Neutral: [MAT20, MAT30, MAT40, MAT50]. Unpreferred: [MAT10].\n",
      "Name: BIO Teacher 1. Teaching: {0: None, 1: None, 2: None, 3: None, 4: None, 5: None, 6: None}. Preferred: [CHE30]. Neutral: [BIO10, CHE10, PHY10, PHY20, BIO30]. Unpreferred: [PHY30].\n",
      "Name: BIO Teacher 2. Teaching: {0: None, 1: None, 2: None, 3: None, 4: None, 5: None, 6: None}. Preferred: [PHY30]. Neutral: [BIO10, CHE10, PHY20, CHE30, BIO30]. Unpreferred: [PHY10].\n",
      "Name: BIO Teacher 3. Teaching: {0: None, 1: None, 2: None, 3: None, 4: None, 5: None, 6: None}. Preferred: [BIO30]. Neutral: [BIO10, CHE10, PHY10, PHY20, PHY30]. Unpreferred: [CHE30].\n",
      "Name: BIO Teacher 4. Teaching: {0: None, 1: None, 2: None, 3: None, 4: None, 5: None, 6: None}. Preferred: [BIO30]. Neutral: [BIO10, CHE10, PHY10, CHE30, PHY30]. Unpreferred: [PHY20].\n",
      "Name: HIS Teacher 1. Teaching: {0: None, 1: None, 2: None, 3: None, 4: None, 5: None, 6: None}. Preferred: [HIS50]. Neutral: [HIS10, HIS20, HIS40]. Unpreferred: [HIS30].\n",
      "Name: HIS Teacher 2. Teaching: {0: None, 1: None, 2: None, 3: None, 4: None, 5: None, 6: None}. Preferred: [HIS20]. Neutral: [HIS10, HIS30, HIS40]. Unpreferred: [HIS50].\n",
      "Name: HIS Teacher 3. Teaching: {0: None, 1: None, 2: None, 3: None, 4: None, 5: None, 6: None}. Preferred: [HIS30]. Neutral: [HIS10, HIS20, HIS50]. Unpreferred: [HIS40].\n",
      "Name: HIS Teacher 4. Teaching: {0: None, 1: None, 2: None, 3: None, 4: None, 5: None, 6: None}. Preferred: [HIS30]. Neutral: [HIS20, HIS40, HIS50]. Unpreferred: [HIS10].\n",
      "Name: ART Teacher 1. Teaching: {0: None, 1: None, 2: None, 3: None, 4: None, 5: None, 6: None}. Preferred: [ART40]. Neutral: [ART10, ART20, ART30, ART50]. Unpreferred: [ART60].\n",
      "Name: ART Teacher 2. Teaching: {0: None, 1: None, 2: None, 3: None, 4: None, 5: None, 6: None}. Preferred: [ART40]. Neutral: [ART10, ART30, ART50, ART60]. Unpreferred: [ART20].\n",
      "Name: ART Teacher 3. Teaching: {0: None, 1: None, 2: None, 3: None, 4: None, 5: None, 6: None}. Preferred: [ART40]. Neutral: [ART10, ART20, ART30, ART60]. Unpreferred: [ART50].\n",
      "Name: ART Teacher 4. Teaching: {0: None, 1: None, 2: None, 3: None, 4: None, 5: None, 6: None}. Preferred: [ART30]. Neutral: [ART20, ART40, ART50, ART60]. Unpreferred: [ART10].\n",
      "Name: COM Teacher 1. Teaching: {0: None, 1: None, 2: None, 3: None, 4: None, 5: None, 6: None}. Preferred: [COM30]. Neutral: [COM10, COM40]. Unpreferred: [COM20].\n",
      "Name: COM Teacher 2. Teaching: {0: None, 1: None, 2: None, 3: None, 4: None, 5: None, 6: None}. Preferred: [COM40]. Neutral: [COM10, COM30]. Unpreferred: [COM20].\n",
      "Name: COM Teacher 3. Teaching: {0: None, 1: None, 2: None, 3: None, 4: None, 5: None, 6: None}. Preferred: [COM10]. Neutral: [COM30, COM40]. Unpreferred: [COM20].\n",
      "Name: COM Teacher 4. Teaching: {0: None, 1: None, 2: None, 3: None, 4: None, 5: None, 6: None}. Preferred: [COM10]. Neutral: [COM20, COM40]. Unpreferred: [COM30].\n",
      "Name: SPA Teacher 1. Teaching: {0: None, 1: None, 2: None, 3: None, 4: None, 5: None, 6: None}. Preferred: [SPA10]. Neutral: [SPA30, SPA40]. Unpreferred: [SPA20].\n",
      "Name: SPA Teacher 2. Teaching: {0: None, 1: None, 2: None, 3: None, 4: None, 5: None, 6: None}. Preferred: [SPA20]. Neutral: [SPA30, SPA40]. Unpreferred: [SPA10].\n",
      "Name: SPA Teacher 3. Teaching: {0: None, 1: None, 2: None, 3: None, 4: None, 5: None, 6: None}. Preferred: [SPA10]. Neutral: [SPA20, SPA30]. Unpreferred: [SPA40].\n",
      "Name: SPA Teacher 4. Teaching: {0: None, 1: None, 2: None, 3: None, 4: None, 5: None, 6: None}. Preferred: [SPA30]. Neutral: [SPA20, SPA40]. Unpreferred: [SPA10].\n"
     ]
    }
   ],
   "source": [
    "for teacher in teachers:\n",
    "    print(teacher)"
   ]
  },
  {
   "cell_type": "code",
   "execution_count": 51,
   "metadata": {},
   "outputs": [],
   "source": [
    "def reset_teachers():\n",
    "    global block_sections\n",
    "    for teacher in teachers:\n",
    "        teacher.reset_schedule()\n",
    "    for course in all_courses_flattened:\n",
    "        course.reset_sections()\n",
    "\n",
    "    block_sections = {i: [] for i in range(0, 7)}\n"
   ]
  },
  {
   "cell_type": "markdown",
   "metadata": {},
   "source": [
    "## Future Note\n",
    "Can generalize course overlaps by specifiying the following for each course:\n",
    " - the classes it's good to overlap with (i.e. eng 10 and eng 20)\n",
    " - the classes it's bad to overlap (i.e. math 60 and chamber ensemble)"
   ]
  },
  {
   "cell_type": "code",
   "execution_count": 52,
   "metadata": {},
   "outputs": [
    {
     "name": "stdout",
     "output_type": "stream",
     "text": [
      "ENG10\n",
      "Assigning ENG10 to block 2 with teacher ENG Teacher 3\n",
      "Assigning ENG10 to block 6 with teacher ENG Teacher 3\n",
      "Assigning ENG10 to block 3 with teacher ENG Teacher 3\n",
      "ART40\n",
      "Assigning ART40 to block 4 with teacher ART Teacher 2\n",
      "COM10\n",
      "Assigning COM10 to block 1 with teacher COM Teacher 3\n",
      "Assigning COM10 to block 5 with teacher COM Teacher 3\n",
      "ART30\n",
      "Assigning ART30 to block 0 with teacher ART Teacher 4\n",
      "Assigning ART30 to block 6 with teacher ART Teacher 4\n",
      "MAT10\n",
      "Assigning MAT10 to block 5 with teacher MAT Teacher 2\n",
      "Assigning MAT10 to block 4 with teacher MAT Teacher 2\n",
      "SPA30\n",
      "Assigning SPA30 to block 3 with teacher SPA Teacher 4\n",
      "Assigning SPA30 to block 2 with teacher SPA Teacher 4\n",
      "Assigning SPA30 to block 1 with teacher SPA Teacher 4\n",
      "Assigning SPA30 to block 0 with teacher SPA Teacher 4\n",
      "Assigning SPA30 to block 6 with teacher SPA Teacher 1\n",
      "MAT20\n",
      "Assigning MAT20 to block 3 with teacher MAT Teacher 2\n",
      "Assigning MAT20 to block 2 with teacher MAT Teacher 2\n",
      "Assigning MAT20 to block 5 with teacher MAT Teacher 3\n",
      "BIO10\n",
      "Assigning BIO10 to block 0 with teacher BIO Teacher 4\n",
      "Assigning BIO10 to block 1 with teacher BIO Teacher 4\n",
      "Assigning BIO10 to block 4 with teacher BIO Teacher 4\n",
      "SPA20\n",
      "Assigning SPA20 to block 5 with teacher SPA Teacher 2\n",
      "Assigning SPA20 to block 4 with teacher SPA Teacher 2\n",
      "Assigning SPA20 to block 6 with teacher SPA Teacher 2\n",
      "SPA10\n",
      "Assigning SPA10 to block 1 with teacher SPA Teacher 1\n",
      "Assigning SPA10 to block 3 with teacher SPA Teacher 1\n",
      "ART20\n",
      "Assigning ART20 to block 2 with teacher ART Teacher 4\n",
      "Assigning ART20 to block 3 with teacher ART Teacher 4\n",
      "ART10\n",
      "Assigning ART10 to block 0 with teacher ART Teacher 2\n",
      "Assigning ART10 to block 6 with teacher ART Teacher 2\n",
      "HIS10\n",
      "Assigning HIS10 to block 5 with teacher HIS Teacher 1\n",
      "Assigning HIS10 to block 4 with teacher HIS Teacher 1\n",
      "ENG20\n",
      "Assigning ENG20 to block 5 with teacher English Teacher 2\n",
      "Assigning ENG20 to block 4 with teacher English Teacher 2\n",
      "Assigning ENG20 to block 1 with teacher English Teacher 2\n",
      "MAT30\n",
      "Assigning MAT30 to block 4 with teacher MAT Teacher 3\n",
      "Assigning MAT30 to block 1 with teacher MAT Teacher 3\n",
      "HIS20\n",
      "Assigning HIS20 to block 5 with teacher HIS Teacher 2\n",
      "Assigning HIS20 to block 2 with teacher HIS Teacher 2\n",
      "CHE10\n",
      "Assigning CHE10 to block 5 with teacher BIO Teacher 4\n",
      "Assigning CHE10 to block 0 with teacher BIO Teacher 3\n",
      "Assigning CHE10 to block 4 with teacher BIO Teacher 3\n",
      "MAT40\n",
      "Assigning MAT40 to block 6 with teacher MAT Teacher 3\n",
      "Assigning MAT40 to block 1 with teacher MAT Teacher 1\n",
      "COM20\n",
      "Assigning COM20 to block 0 with teacher COM Teacher 4\n",
      "Assigning COM20 to block 3 with teacher COM Teacher 4\n",
      "ENG30\n",
      "Assigning ENG30 to block 5 with teacher ENG Teacher 1\n",
      "Assigning ENG30 to block 0 with teacher ENG Teacher 1\n",
      "Assigning ENG30 to block 2 with teacher ENG Teacher 1\n",
      "HIS30\n",
      "Assigning HIS30 to block 5 with teacher HIS Teacher 3\n",
      "Assigning HIS30 to block 4 with teacher HIS Teacher 3\n",
      "COM30\n",
      "Assigning COM30 to block 0 with teacher COM Teacher 1\n",
      "PHY10\n",
      "Assigning PHY10 to block 3 with teacher BIO Teacher 3\n",
      "Assigning PHY10 to block 2 with teacher BIO Teacher 3\n",
      "PHY20\n",
      "Assigning PHY20 to block 5 with teacher BIO Teacher 1\n",
      "Assigning PHY20 to block 4 with teacher BIO Teacher 1\n",
      "HIS40\n",
      "Assigning HIS40 to block 0 with teacher HIS Teacher 1\n",
      "Assigning HIS40 to block 2 with teacher HIS Teacher 1\n",
      "MAT50\n",
      "Assigning MAT50 to block 3 with teacher MAT Teacher 1\n",
      "Assigning MAT50 to block 6 with teacher MAT Teacher 1\n",
      "Assigning MAT50 to block 5 with teacher MAT Teacher 1\n",
      "ART50\n",
      "Assigning ART50 to block 2 with teacher ART Teacher 2\n",
      "ENG50\n",
      "Assigning ENG50 to block 4 with teacher English Teacher 1\n",
      "ENG60\n",
      "Assigning ENG60 to block 0 with teacher English Teacher 2\n",
      "Assigning ENG60 to block 5 with teacher ENG Teacher 3\n",
      "BIO30\n",
      "Assigning BIO30 to block 2 with teacher BIO Teacher 1\n",
      "COM40\n",
      "Assigning COM40 to block 4 with teacher COM Teacher 2\n",
      "PHY30\n",
      "Assigning PHY30 to block 1 with teacher BIO Teacher 2\n",
      "CHE30\n",
      "Assigning CHE30 to block 0 with teacher BIO Teacher 1\n",
      "Assigning CHE30 to block 5 with teacher BIO Teacher 2\n",
      "HIS50\n",
      "Assigning HIS50 to block 2 with teacher HIS Teacher 3\n",
      "Assigning HIS50 to block 1 with teacher HIS Teacher 3\n",
      "Assigning HIS50 to block 4 with teacher HIS Teacher 4\n",
      "SPA40\n",
      "Assigning SPA40 to block 5 with teacher SPA Teacher 1\n",
      "Assigning SPA40 to block 3 with teacher SPA Teacher 2\n",
      "ART60\n",
      "Assigning ART60 to block 6 with teacher ART Teacher 3\n",
      "ENG40\n",
      "Assigning ENG40 to block 4 with teacher English Teacher 4\n",
      "MAT60\n",
      "Assigning MAT60 to block 2 with teacher MAT Teacher 4\n",
      "Assigning MAT60 to block 0 with teacher MAT Teacher 4\n"
     ]
    }
   ],
   "source": [
    "reset_teachers()\n",
    "block_sections: dict[int, list[Section]] = {i: [] for i in range(0, 7)}\n",
    "def assign_block_and_teachers(courses: list[Course]):\n",
    "    \"\"\"Assigns blocks and teachers to the courses in the given list.\n",
    "    \n",
    "    Args:\n",
    "        courses (list[Course]): List of Course objects.\n",
    "    \"\"\"\n",
    "    # start with the least desirable course, so if a teacher prefers to teach an undersirable course, they get assgined to it.\n",
    "    sorted_courses = sorted(courses, key=lambda x: x.get_course_desirability_teaching(), reverse=True)\n",
    "    for course in sorted_courses:\n",
    "        if course.finished_assigning_teachers:\n",
    "            continue\n",
    "        print(course)\n",
    "        num_sections = math.ceil(course_frequencies[course.name] / MAX_CLASS_SIZE)\n",
    "    \n",
    "        for i in range(num_sections):\n",
    "            teacher = course.get_best_teacher()\n",
    "            if not teacher:\n",
    "                print(f\"No more available teachers for {course.name}\")\n",
    "                break\n",
    "\n",
    "            # find the best free block for the teacher\n",
    "            best_block = teacher.find_best_block_for_course(course, block_sections)\n",
    "\n",
    "            print(f\"Assigning {course.name} to block {best_block} with teacher {teacher.name}\")\n",
    "            section = course.create_section(teacher=teacher, block=best_block) # creating without students\n",
    "            block_sections[best_block].append(section)\n",
    "        course.finished_assigning_teachers = True\n",
    "\n",
    "assign_block_and_teachers(ninth_grade_courses)\n",
    "assign_block_and_teachers(tenth_grade_courses)\n",
    "assign_block_and_teachers(eleventh_grade_courses)\n",
    "assign_block_and_teachers(twelfth_grade_courses)\n",
    "\n",
    "# add extra sections for the most popular classes for the teachers who don't have full schedules\n",
    "for teacher in teachers:\n",
    "    students_per_section: dict[Course, float] = {course: len(course.students)/len(course.sections) for course in teacher.preferred_courses + teacher.neutral_courses}\n",
    "    while not teacher.has_full_schedule():\n",
    "        \n",
    "        best_course = max(students_per_section, key=students_per_section.get)\n",
    "\n",
    "        # no need to split a class if there are less than 6 students in it\n",
    "        # this is a heuristic to avoid splitting classes that are already small\n",
    "        if students_per_section[best_course] < SMALLEST_SPLIT_THRESHOLD:\n",
    "            break\n",
    "    \n",
    "        best_block = teacher.find_best_block_for_course(best_course, block_sections)\n",
    "        section = best_course.create_section(teacher=teacher, block=best_block) # creating without students\n",
    "        block_sections[best_block].append(section)\n",
    "\n",
    "        students_per_section[best_course] = len(best_course.students)/len(best_course.sections) # update the number of students per section for the course"
   ]
  },
  {
   "cell_type": "markdown",
   "metadata": {},
   "source": [
    "Let's see how we're doing. Sometimes we don't have enough teachers for all courses."
   ]
  },
  {
   "cell_type": "code",
   "execution_count": 53,
   "metadata": {},
   "outputs": [
    {
     "name": "stdout",
     "output_type": "stream",
     "text": [
      "[ENG10 - 2: 0, ENG10 - 6: 0, ENG10 - 3: 0, ENG10 - 0: 0, ENG10 - 1: 0]\n",
      "[ENG20 - 5: 0, ENG20 - 4: 0, ENG20 - 1: 0, ENG20 - 2: 0, ENG20 - 3: 0, ENG20 - 0: 0]\n",
      "[ENG30 - 5: 0, ENG30 - 0: 0, ENG30 - 2: 0, ENG30 - 4: 0, ENG30 - 1: 0]\n",
      "[ENG40 - 4: 0]\n",
      "[ENG50 - 4: 0, ENG50 - 3: 0]\n",
      "[ENG60 - 0: 0, ENG60 - 5: 0, ENG60 - 6: 0]\n",
      "[MAT10 - 5: 0, MAT10 - 4: 0]\n",
      "[MAT20 - 3: 0, MAT20 - 2: 0, MAT20 - 5: 0]\n",
      "[MAT30 - 4: 0, MAT30 - 1: 0, MAT30 - 6: 0]\n",
      "[MAT40 - 6: 0, MAT40 - 1: 0, MAT40 - 1: 0]\n",
      "[MAT50 - 3: 0, MAT50 - 6: 0, MAT50 - 5: 0]\n",
      "[MAT60 - 2: 0, MAT60 - 0: 0]\n",
      "[BIO10 - 0: 0, BIO10 - 1: 0, BIO10 - 4: 0, BIO10 - 2: 0]\n",
      "[CHE10 - 5: 0, CHE10 - 0: 0, CHE10 - 4: 0, CHE10 - 4: 0]\n",
      "[PHY10 - 3: 0, PHY10 - 2: 0]\n",
      "[PHY20 - 5: 0, PHY20 - 4: 0]\n",
      "[CHE30 - 0: 0, CHE30 - 5: 0]\n",
      "[BIO30 - 2: 0]\n",
      "[PHY30 - 1: 0]\n",
      "[HIS10 - 5: 0, HIS10 - 4: 0]\n",
      "[HIS20 - 5: 0, HIS20 - 2: 0, HIS20 - 4: 0]\n",
      "[HIS30 - 5: 0, HIS30 - 4: 0, HIS30 - 0: 0]\n",
      "[HIS40 - 0: 0, HIS40 - 2: 0, HIS40 - 3: 0]\n",
      "[HIS50 - 2: 0, HIS50 - 1: 0, HIS50 - 4: 0, HIS50 - 5: 0, HIS50 - 0: 0]\n",
      "[ART10 - 0: 0, ART10 - 6: 0, ART10 - 3: 0, ART10 - 2: 0]\n",
      "[ART20 - 2: 0, ART20 - 3: 0, ART20 - 6: 0]\n",
      "[ART30 - 0: 0, ART30 - 6: 0, ART30 - 5: 0]\n",
      "[ART40 - 4: 0, ART40 - 2: 0]\n",
      "[ART50 - 2: 0, ART50 - 4: 0]\n",
      "[ART60 - 6: 0, ART60 - 1: 0]\n",
      "[COM10 - 1: 0, COM10 - 5: 0, COM10 - 4: 0, COM10 - 0: 0]\n",
      "[COM20 - 0: 0, COM20 - 3: 0, COM20 - 5: 0, COM20 - 1: 0]\n",
      "[COM30 - 0: 0, COM30 - 5: 0, COM30 - 2: 0]\n",
      "[COM40 - 4: 0, COM40 - 2: 0, COM40 - 1: 0]\n",
      "[SPA10 - 1: 0, SPA10 - 3: 0, SPA10 - 1: 0]\n",
      "[SPA20 - 5: 0, SPA20 - 4: 0, SPA20 - 6: 0, SPA20 - 6: 0]\n",
      "[SPA30 - 3: 0, SPA30 - 2: 0, SPA30 - 1: 0, SPA30 - 0: 0, SPA30 - 6: 0, SPA30 - 3: 0, SPA30 - 0: 0]\n",
      "[SPA40 - 5: 0, SPA40 - 3: 0]\n"
     ]
    }
   ],
   "source": [
    "for course in all_courses_flattened:\n",
    "    print(course.sections)"
   ]
  },
  {
   "cell_type": "markdown",
   "metadata": {},
   "source": [
    "### Assigning students to courses\n",
    "\n",
    "Start with the course with the least # of sections.\n",
    "\n",
    "Then, iterate over the sections, and for each student in that course:\n",
    "- assign the students based on their scheudles, which has two parts.\n",
    "    - Assign students with the least other classes also taught in this block (minimize conflict of schedules). If there is overlap, assign the students with the most # of available sections combined between their other courses (in theory, they are the most flexible)\n",
    "\n",
    "- conflict resolution: if there are no available courses for a student:\n",
    "    - first, try and move one of their other courses to accomodate.\n",
    "    - if not possible, break the max class size limit and add a penalty\n",
    "    - if still infeasible, make a note of that (sometimes conflicts are unavoidable depending on teacher schedules)\n",
    "        - Potentially look at adding or shifting teacher schedules? (look at this later)"
   ]
  },
  {
   "cell_type": "code",
   "execution_count": 54,
   "metadata": {},
   "outputs": [],
   "source": [
    "def reset_student_assignments():\n",
    "    \"\"\"\n",
    "    Resets the course assignments for all students.\n",
    "    \"\"\"\n",
    "\n",
    "    for student in students:\n",
    "        student.reset_schedule()\n",
    "    for course in all_courses_flattened:\n",
    "        course.reset_students_in_sections()"
   ]
  },
  {
   "cell_type": "markdown",
   "metadata": {},
   "source": [
    "50% weight class size, 50% weight student schedule. Emphasize clsas size actually so that there is as even a distribution as possible.\n"
   ]
  },
  {
   "cell_type": "code",
   "execution_count": 55,
   "metadata": {},
   "outputs": [],
   "source": [
    "all_courses_electives = [course for course in all_courses_flattened if course.is_elective]\n",
    "all_courses_required = [course for course in all_courses_flattened if not course.is_elective]"
   ]
  },
  {
   "cell_type": "code",
   "execution_count": 57,
   "metadata": {},
   "outputs": [
    {
     "name": "stdout",
     "output_type": "stream",
     "text": [
      "Iteration 0 Courses remaining: 0\n",
      "Iteration 0 Courses remaining: 0\n"
     ]
    }
   ],
   "source": [
    "reset_student_assignments()\n",
    "\n",
    "# sort the courses by the number of sections, so that we start with the ones with the least sections first\n",
    "def assign_students_using_max_flow(courses: list[Course]) -> list[Course]:\n",
    "    \"\"\"\n",
    "    Assigns students to sections using a max flow algorithm.\n",
    "\n",
    "    Args:\n",
    "        courses: a list of the courses to assign\n",
    "    Returns:\n",
    "        A list of courses that still need to be assigned students due to shuffeling.\n",
    "    \"\"\"\n",
    "    sorted_courses = sorted(courses, key=lambda x: len(x.sections))\n",
    "\n",
    "    courses_remaining: list[Course] = []\n",
    "    for course in sorted_courses:\n",
    "        ideal_students_per_section = math.ceil(len(course.students)/len(course.sections))\n",
    "\n",
    "        # construct networkx graph, where each student is connected to each section they can take\n",
    "        # each section is connected to a sink node\n",
    "        # each student is connected to a source node\n",
    "        G = nx.DiGraph()\n",
    "        G.add_node(\"source\")\n",
    "        G.add_node(\"sink\")\n",
    "\n",
    "        blocks_to_sections: dict[str, Section] = {}\n",
    "        for section in course.sections:\n",
    "            G.add_node(section)\n",
    "            G.add_edge(section, \"sink\", capacity=ideal_students_per_section)\n",
    "            blocks_to_sections[section.block] = section\n",
    "\n",
    "        unassigned_students: list[Student] = []\n",
    "        students_to_assign: list[Student] = []\n",
    "        already_enrolled = 0\n",
    "        for student in course.students:\n",
    "            # if the student is already assigned to a course in this section, skip them\n",
    "            current_section = student.get_course_section(course)\n",
    "            if student.get_course_section(course) != None:\n",
    "                already_enrolled += 1\n",
    "                G.edges()[(current_section, \"sink\")][\"capacity\"] -= 1\n",
    "            \n",
    "            else:\n",
    "                students_to_assign.append(student)\n",
    "                sections_for_student = student.get_available_sections_with_saturation(course)\n",
    "                if len(sections_for_student) == 0:\n",
    "                    unassigned_students.append(student)\n",
    "                    continue\n",
    "                G.add_node(student.name)\n",
    "                G.add_edge(\"source\", student.name, capacity=1)\n",
    "                for section, saturation in sections_for_student.items():\n",
    "                    # infinite capacity, weight is the saturation\n",
    "                    G.add_edge(student.name, section, weight=saturation)\n",
    "        \n",
    "\n",
    "        # find the max flow min cost in the graph\n",
    "        flow_dict = nx.max_flow_min_cost(G, \"source\", \"sink\")\n",
    "        # assign the students to the sections based on the flow dict\n",
    "\n",
    "        for student in students_to_assign:\n",
    "            if student in unassigned_students:\n",
    "                continue\n",
    "            best_section = max(flow_dict[student.name], key=lambda x: flow_dict[student.name][x])\n",
    "            if flow_dict[student.name][best_section] == 0:\n",
    "                unassigned_students.append(student)\n",
    "                continue\n",
    "            best_section.add_student(student)\n",
    "\n",
    "        # not all students were able to be assigned to a section, so we need to try to assign them to the sections with the least number of students and shuffle things around\n",
    "        if len(unassigned_students) > 0:\n",
    "            for student in unassigned_students:\n",
    "                sections_sorted_by_size = sorted(course.sections, key=lambda x: len(x.students))\n",
    "                \n",
    "                assigned = False\n",
    "                \n",
    "                # try to assign the student to the section with the least number of students\n",
    "                for min_size_section in sections_sorted_by_size:\n",
    "                    if student.schedule[min_size_section.block] == None:\n",
    "                        min_size_section.add_student(student)\n",
    "                        assigned = True\n",
    "                        break\n",
    "                    if student.reassign_block(min_size_section.block, [min_size_section.block], 0):\n",
    "                        # print(\"Succesfuuly reassigned student\", student.name, \"to section\", min_size_section.block)\n",
    "                        min_size_section.add_student(student)\n",
    "                        assigned = True\n",
    "                        break\n",
    "                # if the student is not able to be assigned to any of the sections, they cannot take this course\n",
    "                if not assigned:\n",
    "                    print(f\"Student {student.name} cannot be assigned to any sections for {course.name}.\")\n",
    "                    \n",
    "                    # get student course preferences\n",
    "                    for course_requests in student.course_requests:\n",
    "                        has_alternative = False\n",
    "                        try:\n",
    "                            course_preference_rank = course_requests.index(course)\n",
    "                            if course_preference_rank + 1 < len(course_requests):\n",
    "                                has_alternative = True\n",
    "                                next_course = course_requests[course_preference_rank + 1]\n",
    "                            break\n",
    "                        # haven't found the course in the list yet, so continue searching\n",
    "                        except ValueError:\n",
    "                            continue\n",
    "                    \n",
    "                    if not has_alternative:\n",
    "                        print(f\"Student {student.name} does not have any ranked alternative electives available.\") \n",
    "                    else:\n",
    "                        course.remove_student(student)\n",
    "                        next_course.add_student(student)\n",
    "                        courses_remaining.append(course)\n",
    "    return courses_remaining  \n",
    "\n",
    "\n",
    "courses_remaining = all_courses_required.copy()\n",
    "\n",
    "count = 0\n",
    "while len(courses_remaining) > 0:\n",
    "    courses_remaining = assign_students_using_max_flow(courses_remaining)\n",
    "    print(\"Iteration\", count, \"Courses remaining:\", len(courses_remaining))\n",
    "    count += 1\n",
    "\n",
    "course_remaining = all_courses_electives.copy()\n",
    "\n",
    "count = 0\n",
    "while len(course_remaining) > 0:\n",
    "    course_remaining = assign_students_using_max_flow(course_remaining)\n",
    "    print(\"Iteration\", count, \"Courses remaining:\", len(courses_remaining))\n",
    "    count += 1"
   ]
  },
  {
   "cell_type": "code",
   "execution_count": null,
   "metadata": {},
   "outputs": [
    {
     "name": "stdout",
     "output_type": "stream",
     "text": [
      "Student Student 29 Grade 12 cannot be assigned to any sections for ENG50.\n"
     ]
    }
   ],
   "source": [
    "reset_student_assignments()\n",
    "\n",
    "# sort the courses by the number of sections, so that we start with the ones with the least sections first\n",
    "def assign_students_using_max_flow(courses: list[Course]):\n",
    "    \"\"\"\n",
    "    Assigns students to sections using a max flow algorithm.\n",
    "    \"\"\"\n",
    "    sorted_courses = sorted(courses, key=lambda x: len(x.sections))\n",
    "    for course in sorted_courses:\n",
    "        ideal_students_per_section = math.ceil(len(course.students)/len(course.sections))\n",
    "\n",
    "        # construct networkx graph, where each student is connected to each section they can take\n",
    "        # each section is connected to a sink node\n",
    "        # each student is connected to a source node\n",
    "        G = nx.DiGraph()\n",
    "        G.add_node(\"source\")\n",
    "        G.add_node(\"sink\")\n",
    "\n",
    "        blocks_to_sections: dict[str, Section] = {}\n",
    "        for section in course.sections:\n",
    "            G.add_node(section)\n",
    "            G.add_edge(section, \"sink\", capacity=ideal_students_per_section)\n",
    "            blocks_to_sections[section.block] = section\n",
    "\n",
    "        unassigned_students: list[Student] = []\n",
    "        for student in course.students:\n",
    "            sections_for_student = student.get_available_sections_with_saturation(course)\n",
    "            if len(sections_for_student) == 0:\n",
    "                unassigned_students.append(student)\n",
    "                continue\n",
    "            G.add_node(student.name)\n",
    "            G.add_edge(\"source\", student.name, capacity=1)\n",
    "            for section, saturation in sections_for_student.items():\n",
    "                # infinite capacity, weight is the saturation\n",
    "                G.add_edge(student.name, section, weight=saturation)\n",
    "        \n",
    "\n",
    "        # find the max flow min cost in the graph\n",
    "        flow_dict = nx.max_flow_min_cost(G, \"source\", \"sink\")\n",
    "        # assign the students to the sections based on the flow dict\n",
    "\n",
    "        for student in course.students:\n",
    "            if student in unassigned_students:\n",
    "                continue\n",
    "            best_section = max(flow_dict[student.name], key=lambda x: flow_dict[student.name][x])\n",
    "            if flow_dict[student.name][best_section] == 0:\n",
    "                unassigned_students.append(student)\n",
    "                continue\n",
    "            best_section.add_student(student)\n",
    "\n",
    "        # not all students were able to be assigned to a section, so we need to try to assign them to the sections with the least number of students and shuffle things around\n",
    "        if len(unassigned_students) > 0:\n",
    "            for student in unassigned_students:\n",
    "                sections_sorted_by_size = sorted(course.sections, key=lambda x: len(x.students))\n",
    "                \n",
    "                assigned = False\n",
    "                \n",
    "                # try to assign the student to the section with the least number of students\n",
    "                for min_size_section in sections_sorted_by_size:\n",
    "                    if student.schedule[min_size_section.block] == None:\n",
    "                        min_size_section.add_student(student)\n",
    "                        assigned = True\n",
    "                        break\n",
    "                    if student.reassign_block(min_size_section.block, [min_size_section.block], 0):\n",
    "                        # print(\"Succesfuuly reassigned student\", student.name, \"to section\", min_size_section.block)\n",
    "                        min_size_section.add_student(student)\n",
    "                        assigned = True\n",
    "                        break\n",
    "                # if the student is not able to be assigned to any of the sections, they cannot take this course\n",
    "                if not assigned:\n",
    "                    print(f\"{student.name} cannot be assigned to any sections for {course.name}.\")\n",
    "                    continue \n",
    "assign_students_using_max_flow(all_courses_required)\n",
    "assign_students_using_max_flow(all_courses_electives)\n"
   ]
  },
  {
   "cell_type": "code",
   "execution_count": 58,
   "metadata": {},
   "outputs": [
    {
     "data": {
      "text/plain": [
       "Student 3 Grade 11"
      ]
     },
     "execution_count": 58,
     "metadata": {},
     "output_type": "execute_result"
    }
   ],
   "source": [
    "students[102]"
   ]
  },
  {
   "cell_type": "markdown",
   "metadata": {},
   "source": [
    "Start with 1 subject. Then:\n",
    "\n",
    "1. Assign the number of classes based on demand.\n",
    "\n",
    "$n = \\lceil \\frac{\\text{num students}}{\\text{optimal class size}} \\rceil$\n",
    "\n",
    "2. Fix the classes within the school day.\n",
    "\n",
    "3. Put students in classes based on student schedule"
   ]
  },
  {
   "cell_type": "markdown",
   "metadata": {},
   "source": [
    "### Heuristic for assigning teachers to courses to maximize satisfaction:\n",
    "Repeat:\n",
    "\n",
    "2 rounds of scheduling all teachers who prefer teaching the course\n",
    "\n",
    "1 round of teachers who are neutral to it\n",
    "\n",
    "####  Assigning teachers to courses \n",
    "For teachers who both prefer teaching the same course.\n",
    "\n",
    "- Assing a \"pickiness\" score to each teacher. +1 for P and U, +0 for neutral.\n",
    "\n",
    "- Assign a \"Desirability\" rating for each class. +2 for P, +1 for N, +0 for U.\n",
    "\n",
    "Start with the least desirable course. If there's a tie for preference between teachers, break the tie by assigning the pickiest teacher to that course first. Update the pickiness rating of each teacher as each class is assigned.\n",
    "\n",
    "Notes:\n",
    "- If a teacher dislikes teaching a course, avoid it if at all possible.\n",
    "\n",
    "\n",
    "#### Assigning students to courses\n",
    "\n",
    "- Start with the student with the least amount of flexibility. Flexibility is defined as:\n",
    "    - ex. flexibility for english: \n",
    "    calculate the number of overlapping blocks with their math section, then history, then language. Sum these up\n",
    "\n",
    "Popularity of a class = number of students registered / number of sections.\n",
    "\n"
   ]
  },
  {
   "cell_type": "markdown",
   "metadata": {},
   "source": [
    "### Assigning courses to sections\n",
    "Note: Create a class for Block, keeping track of all the sections corresponding to that block. That's an easy way to track oversaturated versus undersaturated blocks. Assign courses based on the least saturated block."
   ]
  },
  {
   "cell_type": "markdown",
   "metadata": {},
   "source": [
    "Constraint: each teacher teaches at most 4 sections"
   ]
  },
  {
   "cell_type": "markdown",
   "metadata": {},
   "source": [
    "Evaluating a position:\n",
    "- cost-to-go. Come up with a way to evaluate a position based on the features of it. (how constrained it is)\n",
    "\n",
    "Compare all permutations of courses in which blocks.\n",
    "\n",
    "\n",
    "What is the algorithm for assigning students?\n",
    "- take all of the students that have that block free. Pick a random sample of them to fill it up. Since elective sare placed last, this should prioritize filling the required courses."
   ]
  },
  {
   "cell_type": "markdown",
   "metadata": {},
   "source": [
    "## 3 possible methods to consider\n",
    "\n",
    "### 1. student first (prioritize student elective satisfaction)\n",
    "Go through each student, place each class based on their schedule. If a class already exists (and the capacity is less than maxium amount), assign the student to that class, otherwise open a new section.\n",
    "\n",
    "### 2. teacher first (prioritize number of blocks that teachers will teach)\n",
    "Assign teacher schedules based on their desired teaching schedule. (i.e. 4 sections even w/50 students because teachers prefer only 4)\n",
    "\n",
    "### 3. class sizes (prioritize size of each class)\n",
    "Assign the total number of sections for each course first. (i.e. 5 sections b/c 50 students)\n",
    "\n",
    "***********\n",
    "\n",
    "Methods 2 and 3 are similar because you assign the teacher schedules first, then place the students."
   ]
  },
  {
   "cell_type": "code",
   "execution_count": 59,
   "metadata": {},
   "outputs": [
    {
     "name": "stdout",
     "output_type": "stream",
     "text": [
      "Student 3 Grade 11\n",
      "0 COM30\n",
      "1 MAT40\n",
      "2 HIS40\n",
      "3 PHY10\n",
      "4 Free\n",
      "5 ENG30\n",
      "6 SPA20\n",
      "[ENG30, MAT40, PHY10, SPA20, HIS40, COM30]\n"
     ]
    }
   ],
   "source": [
    "student0 = students[102]\n",
    "print(student0.name)\n",
    "for block, section in student0.schedule.items():\n",
    "    if section is not None:\n",
    "        print(block, section.name)\n",
    "    else:\n",
    "        print(block, \"Free\")\n",
    "print(student0.get_all_first_choice_courses())"
   ]
  },
  {
   "cell_type": "code",
   "execution_count": null,
   "metadata": {},
   "outputs": [],
   "source": []
  },
  {
   "cell_type": "code",
   "execution_count": 60,
   "metadata": {},
   "outputs": [],
   "source": [
    "import matplotlib.pyplot as plt\n",
    "from matplotlib.patches import Rectangle\n",
    "\n",
    "def visualize_schedule(people, n_people=10, person_type=\"Student\"):\n",
    "    fig, ax = plt.subplots(figsize=(10, 8))\n",
    "    blocks = ['A', 'B', 'C', 'D', 'E', 'F', 'G']\n",
    "    colors = ['#f4d03f', '#76d7c4', '#85c1e9', '#f1948a', '#bb8fce', '#FFA500', '#aed6f1']\n",
    "\n",
    "    for block_idx, block in enumerate(blocks):\n",
    "        # ax.add_patch(Rectangle((0, block_idx), 1, 1, color=colors[block_idx], label=f'{block} Block'))\n",
    "        ax.text(-0.1, block_idx + 0.5, f'{block} Block', va='center', ha='right', fontsize=10, weight='bold')\n",
    "\n",
    "    for person_idx, person in enumerate(people[:n_people]):  # Visualize only the first n students\n",
    "        for block_idx, course in person.schedule.items():\n",
    "            if course:\n",
    "                ax.add_patch(Rectangle((person_idx, block_idx), 1, 1, color=colors[block_idx], alpha=0.7))\n",
    "                ax.text(person_idx + .5, block_idx + 0.5, course.name, va='center', ha='center', fontsize=8)\n",
    "\n",
    "    ax.set_xlim(0, len(people[:n_people]))\n",
    "    ax.set_ylim(0, len(blocks))\n",
    "    ax.set_xticks(range(1, len(people[:n_people]) + 1))\n",
    "    ax.set_xticklabels([f'{person_type} {i+1}' for i in range(len(people[:n_people]))], rotation=45, ha='right')\n",
    "    ax.set_yticks([])\n",
    "    ax.set_aspect('equal')\n",
    "    plt.tight_layout()\n",
    "    plt.show()\n",
    "\n",
    "# Call the function to visualize the schedule\n"
   ]
  },
  {
   "cell_type": "code",
   "execution_count": 61,
   "metadata": {},
   "outputs": [
    {
     "data": {
      "image/png": "[encoded data removed]",
      "text/plain": [
       "<Figure size 1000x800 with 1 Axes>"
      ]
     },
     "metadata": {},
     "output_type": "display_data"
    }
   ],
   "source": [
    "visualize_schedule(students)"
   ]
  },
  {
   "cell_type": "code",
   "execution_count": 62,
   "metadata": {},
   "outputs": [
    {
     "data": {
      "image/png": "[encoded data removed]",
      "text/plain": [
       "<Figure size 1000x800 with 1 Axes>"
      ]
     },
     "metadata": {},
     "output_type": "display_data"
    }
   ],
   "source": [
    "visualize_schedule(teachers, n_people=28, person_type=\"Teacher\")"
   ]
  },
  {
   "cell_type": "markdown",
   "metadata": {},
   "source": [
    "What about using matrices and vectors to represent state spaces?"
   ]
  },
  {
   "cell_type": "markdown",
   "metadata": {},
   "source": [
    "## Evaluating a final schedule\n",
    "\n",
    "Components:\n",
    "- How many students don't get their first choice electives?\n",
    "- How large are the classes? Penalize excessively large classes\n",
    "- How evenly distributed are the classes? Compute mean and standard deviation"
   ]
  },
  {
   "cell_type": "code",
   "execution_count": 63,
   "metadata": {},
   "outputs": [
    {
     "data": {
      "text/plain": [
       "95"
      ]
     },
     "execution_count": 63,
     "metadata": {},
     "output_type": "execute_result"
    }
   ],
   "source": [
    "def cost_of_final_schedules(students: list[Student], courses: list[Course], teachers: list[Teacher]) -> int:\n",
    "    \"\"\"Calculates the cost of the final schedules based on the number of students in each section and the number of sections.\n",
    "    \n",
    "    Returns:\n",
    "        int: The total cost of the final schedules.\n",
    "    \"\"\"\n",
    "    total_cost = 0\n",
    "    student_preference_penalty = 0\n",
    "    infeasible_penalty = 0\n",
    "\n",
    "    teacher_preference_penalty = 0\n",
    "    lopsided_distribution_penalty = 0\n",
    "\n",
    "    for student in students:\n",
    "        schedule_courses = {section.course for section in student.schedule.values() if section is not None}\n",
    "        if len(set(schedule_courses)) < len(schedule_courses):\n",
    "            print(\"Student enrolled mutliple times in the same course!\")\n",
    "        # check that all students have their required courses\n",
    "        for course in student.course_requests:\n",
    "            course_found = False\n",
    "            for i in range(len(course)):\n",
    "                if course[i] in schedule_courses:\n",
    "                    course_found = True\n",
    "                    student_preference_penalty += i\n",
    "                    break\n",
    "            if not course_found:\n",
    "                print(f\"Student {student.name} is missing course {course}.\")\n",
    "                infeasible_penalty += 100\n",
    "                # return math.inf\n",
    "\n",
    "    for course in courses:\n",
    "        num_sections = len(course.sections)\n",
    "\n",
    "        # calculate mean and standard deviation of students per sections\n",
    "        if num_sections > 0:\n",
    "            students_per_section = [len(section.students) for section in course.sections]\n",
    "            mean_students = np.mean(students_per_section)\n",
    "            std_students = np.std(students_per_section)\n",
    "\n",
    "            if std_students > 1 and std_students < 1.75:\n",
    "                lopsided_distribution_penalty += 5\n",
    "            elif std_students >= 1.75 and std_students < 2.5:\n",
    "                lopsided_distribution_penalty += 10\n",
    "            elif std_students > 2.5:\n",
    "                lopsided_distribution_penalty += 50\n",
    "\n",
    "            # create a numpy array of length num_sections with the number 8 in each entry\n",
    "            # difference_from_ideal = np.full(num_sections, IDEAL_CLASS_SIZE) - students_per_section\n",
    "            # for diff in difference_from_ideal:\n",
    "            #     if diff > 0:\n",
    "            #         total_cost += diff\n",
    "            # print(students_per_section, difference_from_ideal, total_cost)\n",
    "    total_cost = student_preference_penalty + infeasible_penalty + lopsided_distribution_penalty\n",
    "    return total_cost\n",
    "\n",
    "cost_of_final_schedules(students, all_courses_flattened, teachers)"
   ]
  },
  {
   "cell_type": "markdown",
   "metadata": {},
   "source": [
    "Visualize all sections"
   ]
  },
  {
   "cell_type": "code",
   "execution_count": 64,
   "metadata": {},
   "outputs": [
    {
     "name": "stdout",
     "output_type": "stream",
     "text": [
      "ENG10 block 2, 10 students, ENG Teacher 3\n",
      "ENG10 block 6, 10 students, ENG Teacher 3\n",
      "ENG10 block 3, 10 students, ENG Teacher 3\n",
      "ENG10 block 0, 10 students, ENG Teacher 2\n",
      "ENG10 block 1, 10 students, ENG Teacher 2\n",
      "\n",
      "ENG20 block 5, 10 students, English Teacher 2\n",
      "ENG20 block 4, 3 students, English Teacher 2\n",
      "ENG20 block 1, 10 students, English Teacher 2\n",
      "ENG20 block 2, 9 students, ENG Teacher 2\n",
      "ENG20 block 3, 9 students, ENG Teacher 2\n",
      "ENG20 block 0, 9 students, ENG Teacher 4\n",
      "\n",
      "ENG30 block 5, 10 students, ENG Teacher 1\n",
      "ENG30 block 0, 10 students, ENG Teacher 1\n",
      "ENG30 block 2, 10 students, ENG Teacher 1\n",
      "ENG30 block 4, 10 students, ENG Teacher 1\n",
      "ENG30 block 1, 10 students, ENG Teacher 4\n",
      "\n",
      "ENG40 block 4, 17 students, English Teacher 4\n",
      "\n",
      "ENG50 block 4, 5 students, English Teacher 1\n",
      "ENG50 block 3, 6 students, ENG Teacher 4\n",
      "\n",
      "ENG60 block 0, 8 students, English Teacher 2\n",
      "ENG60 block 5, 6 students, ENG Teacher 3\n",
      "ENG60 block 6, 8 students, ENG Teacher 4\n",
      "\n",
      "MAT10 block 5, 12 students, MAT Teacher 2\n",
      "MAT10 block 4, 11 students, MAT Teacher 2\n",
      "\n",
      "MAT20 block 3, 15 students, MAT Teacher 2\n",
      "MAT20 block 2, 14 students, MAT Teacher 2\n",
      "MAT20 block 5, 14 students, MAT Teacher 3\n",
      "\n",
      "MAT30 block 4, 11 students, MAT Teacher 3\n",
      "MAT30 block 1, 14 students, MAT Teacher 3\n",
      "MAT30 block 6, 13 students, MAT Teacher 4\n",
      "\n",
      "MAT40 block 6, 10 students, MAT Teacher 3\n",
      "MAT40 block 1, 10 students, MAT Teacher 1\n",
      "MAT40 block 1, 9 students, MAT Teacher 4\n",
      "\n",
      "MAT50 block 3, 15 students, MAT Teacher 1\n",
      "MAT50 block 6, 15 students, MAT Teacher 1\n",
      "MAT50 block 5, 12 students, MAT Teacher 1\n",
      "\n",
      "MAT60 block 2, 13 students, MAT Teacher 4\n",
      "MAT60 block 0, 12 students, MAT Teacher 4\n",
      "\n",
      "BIO10 block 0, 13 students, BIO Teacher 4\n",
      "BIO10 block 1, 14 students, BIO Teacher 4\n",
      "BIO10 block 4, 13 students, BIO Teacher 4\n",
      "BIO10 block 2, 10 students, BIO Teacher 2\n",
      "\n",
      "CHE10 block 5, 12 students, BIO Teacher 4\n",
      "CHE10 block 0, 14 students, BIO Teacher 3\n",
      "CHE10 block 4, 13 students, BIO Teacher 3\n",
      "CHE10 block 4, 11 students, BIO Teacher 2\n",
      "\n",
      "PHY10 block 3, 11 students, BIO Teacher 3\n",
      "PHY10 block 2, 12 students, BIO Teacher 3\n",
      "\n",
      "PHY20 block 5, 14 students, BIO Teacher 1\n",
      "PHY20 block 4, 13 students, BIO Teacher 1\n",
      "\n",
      "CHE30 block 0, 11 students, BIO Teacher 1\n",
      "CHE30 block 5, 11 students, BIO Teacher 2\n",
      "\n",
      "BIO30 block 2, 16 students, BIO Teacher 1\n",
      "\n",
      "PHY30 block 1, 12 students, BIO Teacher 2\n",
      "\n",
      "HIS10 block 5, 12 students, HIS Teacher 1\n",
      "HIS10 block 4, 12 students, HIS Teacher 1\n",
      "\n",
      "HIS20 block 5, 10 students, HIS Teacher 2\n",
      "HIS20 block 2, 10 students, HIS Teacher 2\n",
      "HIS20 block 4, 9 students, HIS Teacher 2\n",
      "\n",
      "HIS30 block 5, 11 students, HIS Teacher 3\n",
      "HIS30 block 4, 6 students, HIS Teacher 3\n",
      "HIS30 block 0, 11 students, HIS Teacher 2\n",
      "\n",
      "HIS40 block 0, 8 students, HIS Teacher 1\n",
      "HIS40 block 2, 6 students, HIS Teacher 1\n",
      "HIS40 block 3, 8 students, HIS Teacher 4\n",
      "\n",
      "HIS50 block 2, 10 students, HIS Teacher 3\n",
      "HIS50 block 1, 10 students, HIS Teacher 3\n",
      "HIS50 block 4, 10 students, HIS Teacher 4\n",
      "HIS50 block 5, 10 students, HIS Teacher 4\n",
      "HIS50 block 0, 10 students, HIS Teacher 4\n",
      "\n",
      "ART10 block 0, 8 students, ART Teacher 2\n",
      "ART10 block 6, 8 students, ART Teacher 2\n",
      "ART10 block 3, 8 students, ART Teacher 1\n",
      "ART10 block 2, 7 students, ART Teacher 3\n",
      "\n",
      "ART20 block 2, 9 students, ART Teacher 4\n",
      "ART20 block 3, 7 students, ART Teacher 4\n",
      "ART20 block 6, 9 students, ART Teacher 1\n",
      "\n",
      "ART30 block 0, 8 students, ART Teacher 4\n",
      "ART30 block 6, 8 students, ART Teacher 4\n",
      "ART30 block 5, 8 students, ART Teacher 3\n",
      "\n",
      "ART40 block 4, 10 students, ART Teacher 2\n",
      "ART40 block 2, 10 students, ART Teacher 1\n",
      "\n",
      "ART50 block 2, 10 students, ART Teacher 2\n",
      "ART50 block 4, 10 students, ART Teacher 1\n",
      "\n",
      "ART60 block 6, 6 students, ART Teacher 3\n",
      "ART60 block 1, 5 students, ART Teacher 3\n",
      "\n",
      "COM10 block 1, 7 students, COM Teacher 3\n",
      "COM10 block 5, 7 students, COM Teacher 3\n",
      "COM10 block 4, 7 students, COM Teacher 1\n",
      "COM10 block 0, 5 students, COM Teacher 2\n",
      "\n",
      "COM20 block 0, 4 students, COM Teacher 4\n",
      "COM20 block 3, 5 students, COM Teacher 4\n",
      "COM20 block 5, 6 students, COM Teacher 4\n",
      "COM20 block 1, 6 students, COM Teacher 4\n",
      "\n",
      "COM30 block 0, 7 students, COM Teacher 1\n",
      "COM30 block 5, 5 students, COM Teacher 1\n",
      "COM30 block 2, 6 students, COM Teacher 2\n",
      "\n",
      "COM40 block 4, 5 students, COM Teacher 2\n",
      "COM40 block 2, 6 students, COM Teacher 1\n",
      "COM40 block 1, 7 students, COM Teacher 2\n",
      "\n",
      "SPA10 block 1, 11 students, SPA Teacher 1\n",
      "SPA10 block 3, 11 students, SPA Teacher 1\n",
      "SPA10 block 1, 11 students, SPA Teacher 3\n",
      "\n",
      "SPA20 block 5, 12 students, SPA Teacher 2\n",
      "SPA20 block 4, 9 students, SPA Teacher 2\n",
      "SPA20 block 6, 16 students, SPA Teacher 2\n",
      "SPA20 block 6, 16 students, SPA Teacher 3\n",
      "\n",
      "SPA30 block 3, 13 students, SPA Teacher 4\n",
      "SPA30 block 2, 12 students, SPA Teacher 4\n",
      "SPA30 block 1, 13 students, SPA Teacher 4\n",
      "SPA30 block 0, 13 students, SPA Teacher 4\n",
      "SPA30 block 6, 13 students, SPA Teacher 1\n",
      "SPA30 block 3, 13 students, SPA Teacher 3\n",
      "SPA30 block 0, 10 students, SPA Teacher 3\n",
      "\n",
      "SPA40 block 5, 13 students, SPA Teacher 1\n",
      "SPA40 block 3, 14 students, SPA Teacher 2\n",
      "\n"
     ]
    }
   ],
   "source": [
    "for course in all_courses_flattened:\n",
    "    for section in course.sections:\n",
    "        print(f'{course.name} block {section.block}, {len(section.students)} students, {section.teacher.name}')\n",
    "    print()"
   ]
  },
  {
   "cell_type": "markdown",
   "metadata": {},
   "source": [
    "# Rollout\n",
    "For each student, assign them to a random section (take them out of the maxflow graph). Then run the heuristic and look at the cost. THen pick the bets section based on the results of the mutiple heuristic scenairos"
   ]
  },
  {
   "cell_type": "markdown",
   "metadata": {},
   "source": [
    "## Local Improvement Algorithm\n",
    "\n",
    "This algorithm iteratively improves the schedule by making small changes and accepting them if they reduce the cost."
   ]
  }
 ],
 "metadata": {
  "kernelspec": {
   "display_name": ".venv",
   "language": "python",
   "name": "python3"
  },
  "language_info": {
   "codemirror_mode": {
    "name": "ipython",
    "version": 3
   },
   "file_extension": ".py",
   "mimetype": "text/x-python",
   "name": "python",
   "nbconvert_exporter": "python",
   "pygments_lexer": "ipython3",
   "version": "3.12.3"
  }
 },
 "nbformat": 4,
 "nbformat_minor": 2
}
